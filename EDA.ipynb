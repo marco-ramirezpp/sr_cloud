{
  "nbformat": 4,
  "nbformat_minor": 0,
  "metadata": {
    "colab": {
      "name": "MINE_4201_Laboratorio_2_Filtrado_por_contenido - Copy.ipynb",
      "provenance": [],
      "collapsed_sections": []
    },
    "kernelspec": {
      "name": "python3",
      "display_name": "Python 3"
    }
  },
  "cells": [
    {
      "cell_type": "markdown",
      "metadata": {
        "id": "OKs7ShWIKKi7"
      },
      "source": [
        "# MINE 4201 - Laboratorio 2 - Filtrado por contenido"
      ]
    },
    {
      "cell_type": "markdown",
      "source": [
        ""
      ],
      "metadata": {
        "id": "Mf2xDmyWCVDu"
      }
    },
    {
      "cell_type": "markdown",
      "metadata": {
        "id": "VnmkMaHMrV-P"
      },
      "source": [
        "Los sistemas de recomendación basados en contenido filtran contenido basado en la representación de items y el perfil del usuario. En este laboratorio trabajaremos con un conjunto de datos del sitio web [LibraryThing](https://https://www.librarything.com/).\n",
        "\n",
        "\n",
        "## Preparación del entorno\n",
        "Instale las librerias que vamos a utilizar e importelas en el ambiente de ejecución"
      ]
    },
    {
      "cell_type": "code",
      "metadata": {
        "id": "j2IE3mtIuoLG"
      },
      "source": [
        "!pip install scikit-learn\n",
        "!pip install pandas\n",
        "!pip install seaborn"
      ],
      "execution_count": null,
      "outputs": []
    },
    {
      "cell_type": "markdown",
      "source": [
        ""
      ],
      "metadata": {
        "id": "8iNb4PvxC-AA"
      }
    },
    {
      "cell_type": "code",
      "metadata": {
        "id": "Kc5uvt4FwPeY"
      },
      "source": [
        "import os\n",
        "import pandas as pd\n",
        "import numpy as np\n",
        "import seaborn as sns\n",
        "import matplotlib.pyplot as plt\n",
        "import random\n",
        "%matplotlib inline\n",
        "\n",
        "from sklearn.model_selection import train_test_split\n",
        "from sklearn.feature_selection import chi2\n",
        "from sklearn.neighbors import KNeighborsClassifier\n",
        "from sklearn.metrics import confusion_matrix, precision_recall_fscore_support\n",
        "\n"
      ],
      "execution_count": null,
      "outputs": []
    },
    {
      "cell_type": "markdown",
      "metadata": {
        "id": "yqQtNiS4vCJ8"
      },
      "source": [
        "## Carga de archivos \n",
        "\n",
        "Copie el archivo del dataset en el entorno colab en la pestaña files (la carpeta en el menú de la izquierda), carguemos el csv en un dataframe de pandas y revisemos su contenido."
      ]
    },
    {
      "cell_type": "code",
      "metadata": {
        "id": "hBgLrcbXu4VV",
        "colab": {
          "base_uri": "https://localhost:8080/"
        },
        "outputId": "6ff1bc1b-2d4f-43b5-d5ef-25eb4d2ef3e2"
      },
      "source": [
        "if not os.path.exists('/content/DB-BOOK-content.csv') :\n",
        "  raise ValueError('El archivo DB-BOOK-content.csv no fue encontrado en el path')\n",
        "else:\n",
        "  print(\"Los archivos han sido cargados\")"
      ],
      "execution_count": null,
      "outputs": [
        {
          "output_type": "stream",
          "name": "stdout",
          "text": [
            "Los archivos han sido cargados\n"
          ]
        }
      ]
    },
    {
      "cell_type": "code",
      "metadata": {
        "id": "7RA_mj5ZxN8w",
        "colab": {
          "base_uri": "https://localhost:8080/",
          "height": 424
        },
        "outputId": "05aa9d08-f3de-4d09-f7fb-68c89967ceb1"
      },
      "source": [
        "df_dbbook=pd.read_csv('/content/DB-BOOK-content.csv', sep=';')\n",
        "df_dbbook"
      ],
      "execution_count": null,
      "outputs": [
        {
          "output_type": "execute_result",
          "data": {
            "text/html": [
              "\n",
              "  <div id=\"df-e8bc5d81-900f-49e8-bc74-f74796b54958\">\n",
              "    <div class=\"colab-df-container\">\n",
              "      <div>\n",
              "<style scoped>\n",
              "    .dataframe tbody tr th:only-of-type {\n",
              "        vertical-align: middle;\n",
              "    }\n",
              "\n",
              "    .dataframe tbody tr th {\n",
              "        vertical-align: top;\n",
              "    }\n",
              "\n",
              "    .dataframe thead th {\n",
              "        text-align: right;\n",
              "    }\n",
              "</style>\n",
              "<table border=\"1\" class=\"dataframe\">\n",
              "  <thead>\n",
              "    <tr style=\"text-align: right;\">\n",
              "      <th></th>\n",
              "      <th>DBbook_userID</th>\n",
              "      <th>name</th>\n",
              "      <th>DBbook_ItemID</th>\n",
              "      <th>featureID</th>\n",
              "      <th>featureShortname</th>\n",
              "      <th>rate</th>\n",
              "    </tr>\n",
              "  </thead>\n",
              "  <tbody>\n",
              "    <tr>\n",
              "      <th>0</th>\n",
              "      <td>1</td>\n",
              "      <td>Contingency, Irony, and Solidarity</td>\n",
              "      <td>508</td>\n",
              "      <td>1066</td>\n",
              "      <td>/Category:1989_books</td>\n",
              "      <td>5</td>\n",
              "    </tr>\n",
              "    <tr>\n",
              "      <th>1</th>\n",
              "      <td>1</td>\n",
              "      <td>Contingency, Irony, and Solidarity</td>\n",
              "      <td>508</td>\n",
              "      <td>2300</td>\n",
              "      <td>/Richard_Rorty</td>\n",
              "      <td>5</td>\n",
              "    </tr>\n",
              "    <tr>\n",
              "      <th>2</th>\n",
              "      <td>1</td>\n",
              "      <td>Contingency, Irony, and Solidarity</td>\n",
              "      <td>508</td>\n",
              "      <td>2301</td>\n",
              "      <td>/Category:Works_about_Marcel_Proust</td>\n",
              "      <td>5</td>\n",
              "    </tr>\n",
              "    <tr>\n",
              "      <th>3</th>\n",
              "      <td>1</td>\n",
              "      <td>Contingency, Irony, and Solidarity</td>\n",
              "      <td>508</td>\n",
              "      <td>2302</td>\n",
              "      <td>/Category:Books_by_Richard_Rorty</td>\n",
              "      <td>5</td>\n",
              "    </tr>\n",
              "    <tr>\n",
              "      <th>4</th>\n",
              "      <td>1</td>\n",
              "      <td>Contingency, Irony, and Solidarity</td>\n",
              "      <td>508</td>\n",
              "      <td>2303</td>\n",
              "      <td>/Category:Books_about_irony</td>\n",
              "      <td>5</td>\n",
              "    </tr>\n",
              "    <tr>\n",
              "      <th>...</th>\n",
              "      <td>...</td>\n",
              "      <td>...</td>\n",
              "      <td>...</td>\n",
              "      <td>...</td>\n",
              "      <td>...</td>\n",
              "      <td>...</td>\n",
              "    </tr>\n",
              "    <tr>\n",
              "      <th>1439449</th>\n",
              "      <td>7255</td>\n",
              "      <td>The Catcher in the Rye</td>\n",
              "      <td>8010</td>\n",
              "      <td>3322</td>\n",
              "      <td>/Category:American_bildungsromans</td>\n",
              "      <td>3</td>\n",
              "    </tr>\n",
              "    <tr>\n",
              "      <th>1439450</th>\n",
              "      <td>7255</td>\n",
              "      <td>The Catcher in the Rye</td>\n",
              "      <td>8010</td>\n",
              "      <td>6746</td>\n",
              "      <td>/Category:1949_in_fiction</td>\n",
              "      <td>3</td>\n",
              "    </tr>\n",
              "    <tr>\n",
              "      <th>1439451</th>\n",
              "      <td>7255</td>\n",
              "      <td>The Catcher in the Rye</td>\n",
              "      <td>8010</td>\n",
              "      <td>9011</td>\n",
              "      <td>/J._D._Salinger</td>\n",
              "      <td>3</td>\n",
              "    </tr>\n",
              "    <tr>\n",
              "      <th>1439452</th>\n",
              "      <td>7255</td>\n",
              "      <td>The Catcher in the Rye</td>\n",
              "      <td>8010</td>\n",
              "      <td>10155</td>\n",
              "      <td>/Category:Novels_by_J._D._Salinger</td>\n",
              "      <td>3</td>\n",
              "    </tr>\n",
              "    <tr>\n",
              "      <th>1439453</th>\n",
              "      <td>7255</td>\n",
              "      <td>The Catcher in the Rye</td>\n",
              "      <td>8010</td>\n",
              "      <td>13857</td>\n",
              "      <td>/NovelsByJ.D.Salinger</td>\n",
              "      <td>3</td>\n",
              "    </tr>\n",
              "  </tbody>\n",
              "</table>\n",
              "<p>1439454 rows × 6 columns</p>\n",
              "</div>\n",
              "      <button class=\"colab-df-convert\" onclick=\"convertToInteractive('df-e8bc5d81-900f-49e8-bc74-f74796b54958')\"\n",
              "              title=\"Convert this dataframe to an interactive table.\"\n",
              "              style=\"display:none;\">\n",
              "        \n",
              "  <svg xmlns=\"http://www.w3.org/2000/svg\" height=\"24px\"viewBox=\"0 0 24 24\"\n",
              "       width=\"24px\">\n",
              "    <path d=\"M0 0h24v24H0V0z\" fill=\"none\"/>\n",
              "    <path d=\"M18.56 5.44l.94 2.06.94-2.06 2.06-.94-2.06-.94-.94-2.06-.94 2.06-2.06.94zm-11 1L8.5 8.5l.94-2.06 2.06-.94-2.06-.94L8.5 2.5l-.94 2.06-2.06.94zm10 10l.94 2.06.94-2.06 2.06-.94-2.06-.94-.94-2.06-.94 2.06-2.06.94z\"/><path d=\"M17.41 7.96l-1.37-1.37c-.4-.4-.92-.59-1.43-.59-.52 0-1.04.2-1.43.59L10.3 9.45l-7.72 7.72c-.78.78-.78 2.05 0 2.83L4 21.41c.39.39.9.59 1.41.59.51 0 1.02-.2 1.41-.59l7.78-7.78 2.81-2.81c.8-.78.8-2.07 0-2.86zM5.41 20L4 18.59l7.72-7.72 1.47 1.35L5.41 20z\"/>\n",
              "  </svg>\n",
              "      </button>\n",
              "      \n",
              "  <style>\n",
              "    .colab-df-container {\n",
              "      display:flex;\n",
              "      flex-wrap:wrap;\n",
              "      gap: 12px;\n",
              "    }\n",
              "\n",
              "    .colab-df-convert {\n",
              "      background-color: #E8F0FE;\n",
              "      border: none;\n",
              "      border-radius: 50%;\n",
              "      cursor: pointer;\n",
              "      display: none;\n",
              "      fill: #1967D2;\n",
              "      height: 32px;\n",
              "      padding: 0 0 0 0;\n",
              "      width: 32px;\n",
              "    }\n",
              "\n",
              "    .colab-df-convert:hover {\n",
              "      background-color: #E2EBFA;\n",
              "      box-shadow: 0px 1px 2px rgba(60, 64, 67, 0.3), 0px 1px 3px 1px rgba(60, 64, 67, 0.15);\n",
              "      fill: #174EA6;\n",
              "    }\n",
              "\n",
              "    [theme=dark] .colab-df-convert {\n",
              "      background-color: #3B4455;\n",
              "      fill: #D2E3FC;\n",
              "    }\n",
              "\n",
              "    [theme=dark] .colab-df-convert:hover {\n",
              "      background-color: #434B5C;\n",
              "      box-shadow: 0px 1px 3px 1px rgba(0, 0, 0, 0.15);\n",
              "      filter: drop-shadow(0px 1px 2px rgba(0, 0, 0, 0.3));\n",
              "      fill: #FFFFFF;\n",
              "    }\n",
              "  </style>\n",
              "\n",
              "      <script>\n",
              "        const buttonEl =\n",
              "          document.querySelector('#df-e8bc5d81-900f-49e8-bc74-f74796b54958 button.colab-df-convert');\n",
              "        buttonEl.style.display =\n",
              "          google.colab.kernel.accessAllowed ? 'block' : 'none';\n",
              "\n",
              "        async function convertToInteractive(key) {\n",
              "          const element = document.querySelector('#df-e8bc5d81-900f-49e8-bc74-f74796b54958');\n",
              "          const dataTable =\n",
              "            await google.colab.kernel.invokeFunction('convertToInteractive',\n",
              "                                                     [key], {});\n",
              "          if (!dataTable) return;\n",
              "\n",
              "          const docLinkHtml = 'Like what you see? Visit the ' +\n",
              "            '<a target=\"_blank\" href=https://colab.research.google.com/notebooks/data_table.ipynb>data table notebook</a>'\n",
              "            + ' to learn more about interactive tables.';\n",
              "          element.innerHTML = '';\n",
              "          dataTable['output_type'] = 'display_data';\n",
              "          await google.colab.output.renderOutput(dataTable, element);\n",
              "          const docLink = document.createElement('div');\n",
              "          docLink.innerHTML = docLinkHtml;\n",
              "          element.appendChild(docLink);\n",
              "        }\n",
              "      </script>\n",
              "    </div>\n",
              "  </div>\n",
              "  "
            ],
            "text/plain": [
              "         DBbook_userID                                name  DBbook_ItemID  \\\n",
              "0                    1  Contingency, Irony, and Solidarity            508   \n",
              "1                    1  Contingency, Irony, and Solidarity            508   \n",
              "2                    1  Contingency, Irony, and Solidarity            508   \n",
              "3                    1  Contingency, Irony, and Solidarity            508   \n",
              "4                    1  Contingency, Irony, and Solidarity            508   \n",
              "...                ...                                 ...            ...   \n",
              "1439449           7255              The Catcher in the Rye           8010   \n",
              "1439450           7255              The Catcher in the Rye           8010   \n",
              "1439451           7255              The Catcher in the Rye           8010   \n",
              "1439452           7255              The Catcher in the Rye           8010   \n",
              "1439453           7255              The Catcher in the Rye           8010   \n",
              "\n",
              "         featureID                     featureShortname  rate  \n",
              "0             1066                 /Category:1989_books     5  \n",
              "1             2300                       /Richard_Rorty     5  \n",
              "2             2301  /Category:Works_about_Marcel_Proust     5  \n",
              "3             2302     /Category:Books_by_Richard_Rorty     5  \n",
              "4             2303          /Category:Books_about_irony     5  \n",
              "...            ...                                  ...   ...  \n",
              "1439449       3322    /Category:American_bildungsromans     3  \n",
              "1439450       6746            /Category:1949_in_fiction     3  \n",
              "1439451       9011                      /J._D._Salinger     3  \n",
              "1439452      10155   /Category:Novels_by_J._D._Salinger     3  \n",
              "1439453      13857                /NovelsByJ.D.Salinger     3  \n",
              "\n",
              "[1439454 rows x 6 columns]"
            ]
          },
          "metadata": {},
          "execution_count": 5
        }
      ]
    },
    {
      "cell_type": "markdown",
      "metadata": {
        "id": "wB8U14SC_qzm"
      },
      "source": [
        "Este dataset tiene un formato similar al que manejamos el taller pasado. Tiene una columna con el id del usuario, otra con el id del item y un rating. \n",
        "\n",
        "Cada rating esta presente varias veces, una por cada característica de los libros, revisemos por ejemplo las características del libro con ID 8010.\n",
        "\n",
        "Se selecciona del dataframe las columnas name, featureID y featureShortname, la instruccion drop_duplicates nos deja solamente las columnas que no \n",
        "\n",
        "Nota: Para saber más de indexación de dataframes de pandas utilizando .loc hay una explicación en la [documentación](https://pandas.pydata.org/pandas-docs/stable/user_guide/indexing.html)\n",
        "\n"
      ]
    },
    {
      "cell_type": "code",
      "metadata": {
        "id": "-K8PljKX8MhJ",
        "colab": {
          "base_uri": "https://localhost:8080/",
          "height": 645
        },
        "outputId": "65c06027-c0bf-499f-f885-70ea8a495b3a"
      },
      "source": [
        "df_dbbook.loc[df_dbbook.DBbook_ItemID==8010,['DBbook_ItemID','name','featureID','featureShortname']].drop_duplicates()"
      ],
      "execution_count": null,
      "outputs": [
        {
          "output_type": "execute_result",
          "data": {
            "text/html": [
              "\n",
              "  <div id=\"df-14a8c251-e858-4c16-bf4f-15cc41f6a3e3\">\n",
              "    <div class=\"colab-df-container\">\n",
              "      <div>\n",
              "<style scoped>\n",
              "    .dataframe tbody tr th:only-of-type {\n",
              "        vertical-align: middle;\n",
              "    }\n",
              "\n",
              "    .dataframe tbody tr th {\n",
              "        vertical-align: top;\n",
              "    }\n",
              "\n",
              "    .dataframe thead th {\n",
              "        text-align: right;\n",
              "    }\n",
              "</style>\n",
              "<table border=\"1\" class=\"dataframe\">\n",
              "  <thead>\n",
              "    <tr style=\"text-align: right;\">\n",
              "      <th></th>\n",
              "      <th>DBbook_ItemID</th>\n",
              "      <th>name</th>\n",
              "      <th>featureID</th>\n",
              "      <th>featureShortname</th>\n",
              "    </tr>\n",
              "  </thead>\n",
              "  <tbody>\n",
              "    <tr>\n",
              "      <th>996</th>\n",
              "      <td>8010</td>\n",
              "      <td>The Catcher in the Rye</td>\n",
              "      <td>3</td>\n",
              "      <td>/Communication100033020</td>\n",
              "    </tr>\n",
              "    <tr>\n",
              "      <th>997</th>\n",
              "      <td>8010</td>\n",
              "      <td>The Catcher in the Rye</td>\n",
              "      <td>4</td>\n",
              "      <td>/Fiction106367107</td>\n",
              "    </tr>\n",
              "    <tr>\n",
              "      <th>998</th>\n",
              "      <td>8010</td>\n",
              "      <td>The Catcher in the Rye</td>\n",
              "      <td>5</td>\n",
              "      <td>/LiteraryComposition106364329</td>\n",
              "    </tr>\n",
              "    <tr>\n",
              "      <th>999</th>\n",
              "      <td>8010</td>\n",
              "      <td>The Catcher in the Rye</td>\n",
              "      <td>6</td>\n",
              "      <td>/Writing106362953</td>\n",
              "    </tr>\n",
              "    <tr>\n",
              "      <th>1000</th>\n",
              "      <td>8010</td>\n",
              "      <td>The Catcher in the Rye</td>\n",
              "      <td>7</td>\n",
              "      <td>/WrittenCommunication106349220</td>\n",
              "    </tr>\n",
              "    <tr>\n",
              "      <th>1001</th>\n",
              "      <td>8010</td>\n",
              "      <td>The Catcher in the Rye</td>\n",
              "      <td>11</td>\n",
              "      <td>/Novel106367879</td>\n",
              "    </tr>\n",
              "    <tr>\n",
              "      <th>1002</th>\n",
              "      <td>8010</td>\n",
              "      <td>The Catcher in the Rye</td>\n",
              "      <td>13</td>\n",
              "      <td>/Abstraction100002137</td>\n",
              "    </tr>\n",
              "    <tr>\n",
              "      <th>1003</th>\n",
              "      <td>8010</td>\n",
              "      <td>The Catcher in the Rye</td>\n",
              "      <td>228</td>\n",
              "      <td>/DebutNovels</td>\n",
              "    </tr>\n",
              "    <tr>\n",
              "      <th>1004</th>\n",
              "      <td>8010</td>\n",
              "      <td>The Catcher in the Rye</td>\n",
              "      <td>233</td>\n",
              "      <td>/Category:Debut_novels</td>\n",
              "    </tr>\n",
              "    <tr>\n",
              "      <th>1005</th>\n",
              "      <td>8010</td>\n",
              "      <td>The Catcher in the Rye</td>\n",
              "      <td>277</td>\n",
              "      <td>/Category:Little,_Brown_and_Company_books</td>\n",
              "    </tr>\n",
              "    <tr>\n",
              "      <th>1006</th>\n",
              "      <td>8010</td>\n",
              "      <td>The Catcher in the Rye</td>\n",
              "      <td>626</td>\n",
              "      <td>/Category:Novels_set_in_New_York_City</td>\n",
              "    </tr>\n",
              "    <tr>\n",
              "      <th>1007</th>\n",
              "      <td>8010</td>\n",
              "      <td>The Catcher in the Rye</td>\n",
              "      <td>1378</td>\n",
              "      <td>/Category:Novels_set_in_Pennsylvania</td>\n",
              "    </tr>\n",
              "    <tr>\n",
              "      <th>1008</th>\n",
              "      <td>8010</td>\n",
              "      <td>The Catcher in the Rye</td>\n",
              "      <td>2394</td>\n",
              "      <td>/1951Novels</td>\n",
              "    </tr>\n",
              "    <tr>\n",
              "      <th>1009</th>\n",
              "      <td>8010</td>\n",
              "      <td>The Catcher in the Rye</td>\n",
              "      <td>2402</td>\n",
              "      <td>/Category:1951_novels</td>\n",
              "    </tr>\n",
              "    <tr>\n",
              "      <th>1010</th>\n",
              "      <td>8010</td>\n",
              "      <td>The Catcher in the Rye</td>\n",
              "      <td>3322</td>\n",
              "      <td>/Category:American_bildungsromans</td>\n",
              "    </tr>\n",
              "    <tr>\n",
              "      <th>1011</th>\n",
              "      <td>8010</td>\n",
              "      <td>The Catcher in the Rye</td>\n",
              "      <td>6746</td>\n",
              "      <td>/Category:1949_in_fiction</td>\n",
              "    </tr>\n",
              "    <tr>\n",
              "      <th>1012</th>\n",
              "      <td>8010</td>\n",
              "      <td>The Catcher in the Rye</td>\n",
              "      <td>9011</td>\n",
              "      <td>/J._D._Salinger</td>\n",
              "    </tr>\n",
              "    <tr>\n",
              "      <th>1013</th>\n",
              "      <td>8010</td>\n",
              "      <td>The Catcher in the Rye</td>\n",
              "      <td>10155</td>\n",
              "      <td>/Category:Novels_by_J._D._Salinger</td>\n",
              "    </tr>\n",
              "    <tr>\n",
              "      <th>1014</th>\n",
              "      <td>8010</td>\n",
              "      <td>The Catcher in the Rye</td>\n",
              "      <td>13857</td>\n",
              "      <td>/NovelsByJ.D.Salinger</td>\n",
              "    </tr>\n",
              "  </tbody>\n",
              "</table>\n",
              "</div>\n",
              "      <button class=\"colab-df-convert\" onclick=\"convertToInteractive('df-14a8c251-e858-4c16-bf4f-15cc41f6a3e3')\"\n",
              "              title=\"Convert this dataframe to an interactive table.\"\n",
              "              style=\"display:none;\">\n",
              "        \n",
              "  <svg xmlns=\"http://www.w3.org/2000/svg\" height=\"24px\"viewBox=\"0 0 24 24\"\n",
              "       width=\"24px\">\n",
              "    <path d=\"M0 0h24v24H0V0z\" fill=\"none\"/>\n",
              "    <path d=\"M18.56 5.44l.94 2.06.94-2.06 2.06-.94-2.06-.94-.94-2.06-.94 2.06-2.06.94zm-11 1L8.5 8.5l.94-2.06 2.06-.94-2.06-.94L8.5 2.5l-.94 2.06-2.06.94zm10 10l.94 2.06.94-2.06 2.06-.94-2.06-.94-.94-2.06-.94 2.06-2.06.94z\"/><path d=\"M17.41 7.96l-1.37-1.37c-.4-.4-.92-.59-1.43-.59-.52 0-1.04.2-1.43.59L10.3 9.45l-7.72 7.72c-.78.78-.78 2.05 0 2.83L4 21.41c.39.39.9.59 1.41.59.51 0 1.02-.2 1.41-.59l7.78-7.78 2.81-2.81c.8-.78.8-2.07 0-2.86zM5.41 20L4 18.59l7.72-7.72 1.47 1.35L5.41 20z\"/>\n",
              "  </svg>\n",
              "      </button>\n",
              "      \n",
              "  <style>\n",
              "    .colab-df-container {\n",
              "      display:flex;\n",
              "      flex-wrap:wrap;\n",
              "      gap: 12px;\n",
              "    }\n",
              "\n",
              "    .colab-df-convert {\n",
              "      background-color: #E8F0FE;\n",
              "      border: none;\n",
              "      border-radius: 50%;\n",
              "      cursor: pointer;\n",
              "      display: none;\n",
              "      fill: #1967D2;\n",
              "      height: 32px;\n",
              "      padding: 0 0 0 0;\n",
              "      width: 32px;\n",
              "    }\n",
              "\n",
              "    .colab-df-convert:hover {\n",
              "      background-color: #E2EBFA;\n",
              "      box-shadow: 0px 1px 2px rgba(60, 64, 67, 0.3), 0px 1px 3px 1px rgba(60, 64, 67, 0.15);\n",
              "      fill: #174EA6;\n",
              "    }\n",
              "\n",
              "    [theme=dark] .colab-df-convert {\n",
              "      background-color: #3B4455;\n",
              "      fill: #D2E3FC;\n",
              "    }\n",
              "\n",
              "    [theme=dark] .colab-df-convert:hover {\n",
              "      background-color: #434B5C;\n",
              "      box-shadow: 0px 1px 3px 1px rgba(0, 0, 0, 0.15);\n",
              "      filter: drop-shadow(0px 1px 2px rgba(0, 0, 0, 0.3));\n",
              "      fill: #FFFFFF;\n",
              "    }\n",
              "  </style>\n",
              "\n",
              "      <script>\n",
              "        const buttonEl =\n",
              "          document.querySelector('#df-14a8c251-e858-4c16-bf4f-15cc41f6a3e3 button.colab-df-convert');\n",
              "        buttonEl.style.display =\n",
              "          google.colab.kernel.accessAllowed ? 'block' : 'none';\n",
              "\n",
              "        async function convertToInteractive(key) {\n",
              "          const element = document.querySelector('#df-14a8c251-e858-4c16-bf4f-15cc41f6a3e3');\n",
              "          const dataTable =\n",
              "            await google.colab.kernel.invokeFunction('convertToInteractive',\n",
              "                                                     [key], {});\n",
              "          if (!dataTable) return;\n",
              "\n",
              "          const docLinkHtml = 'Like what you see? Visit the ' +\n",
              "            '<a target=\"_blank\" href=https://colab.research.google.com/notebooks/data_table.ipynb>data table notebook</a>'\n",
              "            + ' to learn more about interactive tables.';\n",
              "          element.innerHTML = '';\n",
              "          dataTable['output_type'] = 'display_data';\n",
              "          await google.colab.output.renderOutput(dataTable, element);\n",
              "          const docLink = document.createElement('div');\n",
              "          docLink.innerHTML = docLinkHtml;\n",
              "          element.appendChild(docLink);\n",
              "        }\n",
              "      </script>\n",
              "    </div>\n",
              "  </div>\n",
              "  "
            ],
            "text/plain": [
              "      DBbook_ItemID                    name  featureID  \\\n",
              "996            8010  The Catcher in the Rye          3   \n",
              "997            8010  The Catcher in the Rye          4   \n",
              "998            8010  The Catcher in the Rye          5   \n",
              "999            8010  The Catcher in the Rye          6   \n",
              "1000           8010  The Catcher in the Rye          7   \n",
              "1001           8010  The Catcher in the Rye         11   \n",
              "1002           8010  The Catcher in the Rye         13   \n",
              "1003           8010  The Catcher in the Rye        228   \n",
              "1004           8010  The Catcher in the Rye        233   \n",
              "1005           8010  The Catcher in the Rye        277   \n",
              "1006           8010  The Catcher in the Rye        626   \n",
              "1007           8010  The Catcher in the Rye       1378   \n",
              "1008           8010  The Catcher in the Rye       2394   \n",
              "1009           8010  The Catcher in the Rye       2402   \n",
              "1010           8010  The Catcher in the Rye       3322   \n",
              "1011           8010  The Catcher in the Rye       6746   \n",
              "1012           8010  The Catcher in the Rye       9011   \n",
              "1013           8010  The Catcher in the Rye      10155   \n",
              "1014           8010  The Catcher in the Rye      13857   \n",
              "\n",
              "                               featureShortname  \n",
              "996                     /Communication100033020  \n",
              "997                           /Fiction106367107  \n",
              "998               /LiteraryComposition106364329  \n",
              "999                           /Writing106362953  \n",
              "1000             /WrittenCommunication106349220  \n",
              "1001                            /Novel106367879  \n",
              "1002                      /Abstraction100002137  \n",
              "1003                               /DebutNovels  \n",
              "1004                     /Category:Debut_novels  \n",
              "1005  /Category:Little,_Brown_and_Company_books  \n",
              "1006      /Category:Novels_set_in_New_York_City  \n",
              "1007       /Category:Novels_set_in_Pennsylvania  \n",
              "1008                                /1951Novels  \n",
              "1009                      /Category:1951_novels  \n",
              "1010          /Category:American_bildungsromans  \n",
              "1011                  /Category:1949_in_fiction  \n",
              "1012                            /J._D._Salinger  \n",
              "1013         /Category:Novels_by_J._D._Salinger  \n",
              "1014                      /NovelsByJ.D.Salinger  "
            ]
          },
          "metadata": {},
          "execution_count": 6
        }
      ]
    },
    {
      "cell_type": "markdown",
      "metadata": {
        "id": "hxv8YvaiMrPM"
      },
      "source": [
        "Cada libro tiene features fueron extraidos de [DBpedia](https://wiki.dbpedia.org/). Dbpedia es una iniciativa para construir una representación de conceptos y relaciones mediante ontologías utilizando la información depositada en wikipedia. Más adelante vamos a utilizar DBPedia para otros talleres que aprovechan la información de la ontología de DBPedia, por ahora lo que tenemos es una representación de conjunto de palabras (o conceptos) para describir un item.  "
      ]
    },
    {
      "cell_type": "markdown",
      "metadata": {
        "id": "AeZn60fcT-OC"
      },
      "source": [
        "## Creación de matriz documento-termino\n",
        "\n",
        "En las siguientes líneas vamos a crear la matriz documento término, el primer paso es obtener en un dataframe los libros, los conceptos, y  los conceptos únicos por libro."
      ]
    },
    {
      "cell_type": "code",
      "source": [
        "df_users=df_dbbook.loc[:,['DBbook_ItemID','DBbook_userID']].drop_duplicates()\n",
        "df_users"
      ],
      "metadata": {
        "id": "fl16CuVIEA8k"
      },
      "execution_count": null,
      "outputs": []
    },
    {
      "cell_type": "code",
      "metadata": {
        "id": "8y198APzhd8U",
        "colab": {
          "base_uri": "https://localhost:8080/",
          "height": 424
        },
        "outputId": "f00e29e1-c7bc-4c81-f790-717d15d0e29c"
      },
      "source": [
        "df_libros=df_dbbook.loc[:,['DBbook_ItemID','name']].drop_duplicates()\n",
        "df_libros"
      ],
      "execution_count": null,
      "outputs": [
        {
          "output_type": "execute_result",
          "data": {
            "text/html": [
              "\n",
              "  <div id=\"df-9a5fcba6-2070-46cd-abad-2c6bf661b28b\">\n",
              "    <div class=\"colab-df-container\">\n",
              "      <div>\n",
              "<style scoped>\n",
              "    .dataframe tbody tr th:only-of-type {\n",
              "        vertical-align: middle;\n",
              "    }\n",
              "\n",
              "    .dataframe tbody tr th {\n",
              "        vertical-align: top;\n",
              "    }\n",
              "\n",
              "    .dataframe thead th {\n",
              "        text-align: right;\n",
              "    }\n",
              "</style>\n",
              "<table border=\"1\" class=\"dataframe\">\n",
              "  <thead>\n",
              "    <tr style=\"text-align: right;\">\n",
              "      <th></th>\n",
              "      <th>DBbook_ItemID</th>\n",
              "      <th>name</th>\n",
              "    </tr>\n",
              "  </thead>\n",
              "  <tbody>\n",
              "    <tr>\n",
              "      <th>0</th>\n",
              "      <td>508</td>\n",
              "      <td>Contingency, Irony, and Solidarity</td>\n",
              "    </tr>\n",
              "    <tr>\n",
              "      <th>8</th>\n",
              "      <td>802</td>\n",
              "      <td>The Solitaire Mystery</td>\n",
              "    </tr>\n",
              "    <tr>\n",
              "      <th>26</th>\n",
              "      <td>889</td>\n",
              "      <td>Wise Blood</td>\n",
              "    </tr>\n",
              "    <tr>\n",
              "      <th>49</th>\n",
              "      <td>1367</td>\n",
              "      <td>The Bell Jar</td>\n",
              "    </tr>\n",
              "    <tr>\n",
              "      <th>72</th>\n",
              "      <td>1736</td>\n",
              "      <td>The Structure of Scientific Revolutions</td>\n",
              "    </tr>\n",
              "    <tr>\n",
              "      <th>...</th>\n",
              "      <td>...</td>\n",
              "      <td>...</td>\n",
              "    </tr>\n",
              "    <tr>\n",
              "      <th>1434966</th>\n",
              "      <td>2860</td>\n",
              "      <td>Practical Magic</td>\n",
              "    </tr>\n",
              "    <tr>\n",
              "      <th>1436627</th>\n",
              "      <td>3838</td>\n",
              "      <td>Destiny: A Chronicle of Deaths Foretold</td>\n",
              "    </tr>\n",
              "    <tr>\n",
              "      <th>1437751</th>\n",
              "      <td>5779</td>\n",
              "      <td>The Road to Omaha</td>\n",
              "    </tr>\n",
              "    <tr>\n",
              "      <th>1438719</th>\n",
              "      <td>3485</td>\n",
              "      <td>Kamikaze Girls</td>\n",
              "    </tr>\n",
              "    <tr>\n",
              "      <th>1438753</th>\n",
              "      <td>3963</td>\n",
              "      <td>Queen of Demons</td>\n",
              "    </tr>\n",
              "  </tbody>\n",
              "</table>\n",
              "<p>6164 rows × 2 columns</p>\n",
              "</div>\n",
              "      <button class=\"colab-df-convert\" onclick=\"convertToInteractive('df-9a5fcba6-2070-46cd-abad-2c6bf661b28b')\"\n",
              "              title=\"Convert this dataframe to an interactive table.\"\n",
              "              style=\"display:none;\">\n",
              "        \n",
              "  <svg xmlns=\"http://www.w3.org/2000/svg\" height=\"24px\"viewBox=\"0 0 24 24\"\n",
              "       width=\"24px\">\n",
              "    <path d=\"M0 0h24v24H0V0z\" fill=\"none\"/>\n",
              "    <path d=\"M18.56 5.44l.94 2.06.94-2.06 2.06-.94-2.06-.94-.94-2.06-.94 2.06-2.06.94zm-11 1L8.5 8.5l.94-2.06 2.06-.94-2.06-.94L8.5 2.5l-.94 2.06-2.06.94zm10 10l.94 2.06.94-2.06 2.06-.94-2.06-.94-.94-2.06-.94 2.06-2.06.94z\"/><path d=\"M17.41 7.96l-1.37-1.37c-.4-.4-.92-.59-1.43-.59-.52 0-1.04.2-1.43.59L10.3 9.45l-7.72 7.72c-.78.78-.78 2.05 0 2.83L4 21.41c.39.39.9.59 1.41.59.51 0 1.02-.2 1.41-.59l7.78-7.78 2.81-2.81c.8-.78.8-2.07 0-2.86zM5.41 20L4 18.59l7.72-7.72 1.47 1.35L5.41 20z\"/>\n",
              "  </svg>\n",
              "      </button>\n",
              "      \n",
              "  <style>\n",
              "    .colab-df-container {\n",
              "      display:flex;\n",
              "      flex-wrap:wrap;\n",
              "      gap: 12px;\n",
              "    }\n",
              "\n",
              "    .colab-df-convert {\n",
              "      background-color: #E8F0FE;\n",
              "      border: none;\n",
              "      border-radius: 50%;\n",
              "      cursor: pointer;\n",
              "      display: none;\n",
              "      fill: #1967D2;\n",
              "      height: 32px;\n",
              "      padding: 0 0 0 0;\n",
              "      width: 32px;\n",
              "    }\n",
              "\n",
              "    .colab-df-convert:hover {\n",
              "      background-color: #E2EBFA;\n",
              "      box-shadow: 0px 1px 2px rgba(60, 64, 67, 0.3), 0px 1px 3px 1px rgba(60, 64, 67, 0.15);\n",
              "      fill: #174EA6;\n",
              "    }\n",
              "\n",
              "    [theme=dark] .colab-df-convert {\n",
              "      background-color: #3B4455;\n",
              "      fill: #D2E3FC;\n",
              "    }\n",
              "\n",
              "    [theme=dark] .colab-df-convert:hover {\n",
              "      background-color: #434B5C;\n",
              "      box-shadow: 0px 1px 3px 1px rgba(0, 0, 0, 0.15);\n",
              "      filter: drop-shadow(0px 1px 2px rgba(0, 0, 0, 0.3));\n",
              "      fill: #FFFFFF;\n",
              "    }\n",
              "  </style>\n",
              "\n",
              "      <script>\n",
              "        const buttonEl =\n",
              "          document.querySelector('#df-9a5fcba6-2070-46cd-abad-2c6bf661b28b button.colab-df-convert');\n",
              "        buttonEl.style.display =\n",
              "          google.colab.kernel.accessAllowed ? 'block' : 'none';\n",
              "\n",
              "        async function convertToInteractive(key) {\n",
              "          const element = document.querySelector('#df-9a5fcba6-2070-46cd-abad-2c6bf661b28b');\n",
              "          const dataTable =\n",
              "            await google.colab.kernel.invokeFunction('convertToInteractive',\n",
              "                                                     [key], {});\n",
              "          if (!dataTable) return;\n",
              "\n",
              "          const docLinkHtml = 'Like what you see? Visit the ' +\n",
              "            '<a target=\"_blank\" href=https://colab.research.google.com/notebooks/data_table.ipynb>data table notebook</a>'\n",
              "            + ' to learn more about interactive tables.';\n",
              "          element.innerHTML = '';\n",
              "          dataTable['output_type'] = 'display_data';\n",
              "          await google.colab.output.renderOutput(dataTable, element);\n",
              "          const docLink = document.createElement('div');\n",
              "          docLink.innerHTML = docLinkHtml;\n",
              "          element.appendChild(docLink);\n",
              "        }\n",
              "      </script>\n",
              "    </div>\n",
              "  </div>\n",
              "  "
            ],
            "text/plain": [
              "         DBbook_ItemID                                     name\n",
              "0                  508       Contingency, Irony, and Solidarity\n",
              "8                  802                    The Solitaire Mystery\n",
              "26                 889                               Wise Blood\n",
              "49                1367                             The Bell Jar\n",
              "72                1736  The Structure of Scientific Revolutions\n",
              "...                ...                                      ...\n",
              "1434966           2860                          Practical Magic\n",
              "1436627           3838  Destiny: A Chronicle of Deaths Foretold\n",
              "1437751           5779                        The Road to Omaha\n",
              "1438719           3485                           Kamikaze Girls\n",
              "1438753           3963                          Queen of Demons\n",
              "\n",
              "[6164 rows x 2 columns]"
            ]
          },
          "metadata": {},
          "execution_count": 7
        }
      ]
    },
    {
      "cell_type": "code",
      "metadata": {
        "id": "kMxSgYFeh5xC",
        "colab": {
          "base_uri": "https://localhost:8080/",
          "height": 424
        },
        "outputId": "2c236bd3-a298-48cf-d3f5-b9a46ae6aab9"
      },
      "source": [
        "df_conceptos=df_dbbook.loc[:,['featureID','featureShortname']].drop_duplicates()\n",
        "df_conceptos"
      ],
      "execution_count": null,
      "outputs": [
        {
          "output_type": "execute_result",
          "data": {
            "text/html": [
              "\n",
              "  <div id=\"df-f0d30376-0a66-4460-801d-70854b42956b\">\n",
              "    <div class=\"colab-df-container\">\n",
              "      <div>\n",
              "<style scoped>\n",
              "    .dataframe tbody tr th:only-of-type {\n",
              "        vertical-align: middle;\n",
              "    }\n",
              "\n",
              "    .dataframe tbody tr th {\n",
              "        vertical-align: top;\n",
              "    }\n",
              "\n",
              "    .dataframe thead th {\n",
              "        text-align: right;\n",
              "    }\n",
              "</style>\n",
              "<table border=\"1\" class=\"dataframe\">\n",
              "  <thead>\n",
              "    <tr style=\"text-align: right;\">\n",
              "      <th></th>\n",
              "      <th>featureID</th>\n",
              "      <th>featureShortname</th>\n",
              "    </tr>\n",
              "  </thead>\n",
              "  <tbody>\n",
              "    <tr>\n",
              "      <th>0</th>\n",
              "      <td>1066</td>\n",
              "      <td>/Category:1989_books</td>\n",
              "    </tr>\n",
              "    <tr>\n",
              "      <th>1</th>\n",
              "      <td>2300</td>\n",
              "      <td>/Richard_Rorty</td>\n",
              "    </tr>\n",
              "    <tr>\n",
              "      <th>2</th>\n",
              "      <td>2301</td>\n",
              "      <td>/Category:Works_about_Marcel_Proust</td>\n",
              "    </tr>\n",
              "    <tr>\n",
              "      <th>3</th>\n",
              "      <td>2302</td>\n",
              "      <td>/Category:Books_by_Richard_Rorty</td>\n",
              "    </tr>\n",
              "    <tr>\n",
              "      <th>4</th>\n",
              "      <td>2303</td>\n",
              "      <td>/Category:Books_about_irony</td>\n",
              "    </tr>\n",
              "    <tr>\n",
              "      <th>...</th>\n",
              "      <td>...</td>\n",
              "      <td>...</td>\n",
              "    </tr>\n",
              "    <tr>\n",
              "      <th>1438749</th>\n",
              "      <td>8790</td>\n",
              "      <td>/Category:Adventure_comedy_films</td>\n",
              "    </tr>\n",
              "    <tr>\n",
              "      <th>1438750</th>\n",
              "      <td>8791</td>\n",
              "      <td>/Category:Fantasy-comedy_films</td>\n",
              "    </tr>\n",
              "    <tr>\n",
              "      <th>1438752</th>\n",
              "      <td>8793</td>\n",
              "      <td>/Category:2004_Japanese_films</td>\n",
              "    </tr>\n",
              "    <tr>\n",
              "      <th>1438766</th>\n",
              "      <td>9393</td>\n",
              "      <td>/NovelsByDavidDrake</td>\n",
              "    </tr>\n",
              "    <tr>\n",
              "      <th>1438767</th>\n",
              "      <td>9394</td>\n",
              "      <td>/Category:Novels_by_David_Drake</td>\n",
              "    </tr>\n",
              "  </tbody>\n",
              "</table>\n",
              "<p>12246 rows × 2 columns</p>\n",
              "</div>\n",
              "      <button class=\"colab-df-convert\" onclick=\"convertToInteractive('df-f0d30376-0a66-4460-801d-70854b42956b')\"\n",
              "              title=\"Convert this dataframe to an interactive table.\"\n",
              "              style=\"display:none;\">\n",
              "        \n",
              "  <svg xmlns=\"http://www.w3.org/2000/svg\" height=\"24px\"viewBox=\"0 0 24 24\"\n",
              "       width=\"24px\">\n",
              "    <path d=\"M0 0h24v24H0V0z\" fill=\"none\"/>\n",
              "    <path d=\"M18.56 5.44l.94 2.06.94-2.06 2.06-.94-2.06-.94-.94-2.06-.94 2.06-2.06.94zm-11 1L8.5 8.5l.94-2.06 2.06-.94-2.06-.94L8.5 2.5l-.94 2.06-2.06.94zm10 10l.94 2.06.94-2.06 2.06-.94-2.06-.94-.94-2.06-.94 2.06-2.06.94z\"/><path d=\"M17.41 7.96l-1.37-1.37c-.4-.4-.92-.59-1.43-.59-.52 0-1.04.2-1.43.59L10.3 9.45l-7.72 7.72c-.78.78-.78 2.05 0 2.83L4 21.41c.39.39.9.59 1.41.59.51 0 1.02-.2 1.41-.59l7.78-7.78 2.81-2.81c.8-.78.8-2.07 0-2.86zM5.41 20L4 18.59l7.72-7.72 1.47 1.35L5.41 20z\"/>\n",
              "  </svg>\n",
              "      </button>\n",
              "      \n",
              "  <style>\n",
              "    .colab-df-container {\n",
              "      display:flex;\n",
              "      flex-wrap:wrap;\n",
              "      gap: 12px;\n",
              "    }\n",
              "\n",
              "    .colab-df-convert {\n",
              "      background-color: #E8F0FE;\n",
              "      border: none;\n",
              "      border-radius: 50%;\n",
              "      cursor: pointer;\n",
              "      display: none;\n",
              "      fill: #1967D2;\n",
              "      height: 32px;\n",
              "      padding: 0 0 0 0;\n",
              "      width: 32px;\n",
              "    }\n",
              "\n",
              "    .colab-df-convert:hover {\n",
              "      background-color: #E2EBFA;\n",
              "      box-shadow: 0px 1px 2px rgba(60, 64, 67, 0.3), 0px 1px 3px 1px rgba(60, 64, 67, 0.15);\n",
              "      fill: #174EA6;\n",
              "    }\n",
              "\n",
              "    [theme=dark] .colab-df-convert {\n",
              "      background-color: #3B4455;\n",
              "      fill: #D2E3FC;\n",
              "    }\n",
              "\n",
              "    [theme=dark] .colab-df-convert:hover {\n",
              "      background-color: #434B5C;\n",
              "      box-shadow: 0px 1px 3px 1px rgba(0, 0, 0, 0.15);\n",
              "      filter: drop-shadow(0px 1px 2px rgba(0, 0, 0, 0.3));\n",
              "      fill: #FFFFFF;\n",
              "    }\n",
              "  </style>\n",
              "\n",
              "      <script>\n",
              "        const buttonEl =\n",
              "          document.querySelector('#df-f0d30376-0a66-4460-801d-70854b42956b button.colab-df-convert');\n",
              "        buttonEl.style.display =\n",
              "          google.colab.kernel.accessAllowed ? 'block' : 'none';\n",
              "\n",
              "        async function convertToInteractive(key) {\n",
              "          const element = document.querySelector('#df-f0d30376-0a66-4460-801d-70854b42956b');\n",
              "          const dataTable =\n",
              "            await google.colab.kernel.invokeFunction('convertToInteractive',\n",
              "                                                     [key], {});\n",
              "          if (!dataTable) return;\n",
              "\n",
              "          const docLinkHtml = 'Like what you see? Visit the ' +\n",
              "            '<a target=\"_blank\" href=https://colab.research.google.com/notebooks/data_table.ipynb>data table notebook</a>'\n",
              "            + ' to learn more about interactive tables.';\n",
              "          element.innerHTML = '';\n",
              "          dataTable['output_type'] = 'display_data';\n",
              "          await google.colab.output.renderOutput(dataTable, element);\n",
              "          const docLink = document.createElement('div');\n",
              "          docLink.innerHTML = docLinkHtml;\n",
              "          element.appendChild(docLink);\n",
              "        }\n",
              "      </script>\n",
              "    </div>\n",
              "  </div>\n",
              "  "
            ],
            "text/plain": [
              "         featureID                     featureShortname\n",
              "0             1066                 /Category:1989_books\n",
              "1             2300                       /Richard_Rorty\n",
              "2             2301  /Category:Works_about_Marcel_Proust\n",
              "3             2302     /Category:Books_by_Richard_Rorty\n",
              "4             2303          /Category:Books_about_irony\n",
              "...            ...                                  ...\n",
              "1438749       8790     /Category:Adventure_comedy_films\n",
              "1438750       8791       /Category:Fantasy-comedy_films\n",
              "1438752       8793        /Category:2004_Japanese_films\n",
              "1438766       9393                  /NovelsByDavidDrake\n",
              "1438767       9394      /Category:Novels_by_David_Drake\n",
              "\n",
              "[12246 rows x 2 columns]"
            ]
          },
          "metadata": {},
          "execution_count": 8
        }
      ]
    },
    {
      "cell_type": "code",
      "metadata": {
        "id": "tXWiCYifMqnr",
        "colab": {
          "base_uri": "https://localhost:8080/",
          "height": 424
        },
        "outputId": "85f2bfb2-8b81-4658-e6bc-290a837ebcc9"
      },
      "source": [
        "df_libros_concepto=df_dbbook.loc[:,['DBbook_ItemID','name','featureID','featureShortname']].drop_duplicates()\n",
        "df_libros_concepto"
      ],
      "execution_count": null,
      "outputs": [
        {
          "output_type": "execute_result",
          "data": {
            "text/html": [
              "\n",
              "  <div id=\"df-f13c96e8-73ee-469a-9fc9-9105d5343723\">\n",
              "    <div class=\"colab-df-container\">\n",
              "      <div>\n",
              "<style scoped>\n",
              "    .dataframe tbody tr th:only-of-type {\n",
              "        vertical-align: middle;\n",
              "    }\n",
              "\n",
              "    .dataframe tbody tr th {\n",
              "        vertical-align: top;\n",
              "    }\n",
              "\n",
              "    .dataframe thead th {\n",
              "        text-align: right;\n",
              "    }\n",
              "</style>\n",
              "<table border=\"1\" class=\"dataframe\">\n",
              "  <thead>\n",
              "    <tr style=\"text-align: right;\">\n",
              "      <th></th>\n",
              "      <th>DBbook_ItemID</th>\n",
              "      <th>name</th>\n",
              "      <th>featureID</th>\n",
              "      <th>featureShortname</th>\n",
              "    </tr>\n",
              "  </thead>\n",
              "  <tbody>\n",
              "    <tr>\n",
              "      <th>0</th>\n",
              "      <td>508</td>\n",
              "      <td>Contingency, Irony, and Solidarity</td>\n",
              "      <td>1066</td>\n",
              "      <td>/Category:1989_books</td>\n",
              "    </tr>\n",
              "    <tr>\n",
              "      <th>1</th>\n",
              "      <td>508</td>\n",
              "      <td>Contingency, Irony, and Solidarity</td>\n",
              "      <td>2300</td>\n",
              "      <td>/Richard_Rorty</td>\n",
              "    </tr>\n",
              "    <tr>\n",
              "      <th>2</th>\n",
              "      <td>508</td>\n",
              "      <td>Contingency, Irony, and Solidarity</td>\n",
              "      <td>2301</td>\n",
              "      <td>/Category:Works_about_Marcel_Proust</td>\n",
              "    </tr>\n",
              "    <tr>\n",
              "      <th>3</th>\n",
              "      <td>508</td>\n",
              "      <td>Contingency, Irony, and Solidarity</td>\n",
              "      <td>2302</td>\n",
              "      <td>/Category:Books_by_Richard_Rorty</td>\n",
              "    </tr>\n",
              "    <tr>\n",
              "      <th>4</th>\n",
              "      <td>508</td>\n",
              "      <td>Contingency, Irony, and Solidarity</td>\n",
              "      <td>2303</td>\n",
              "      <td>/Category:Books_about_irony</td>\n",
              "    </tr>\n",
              "    <tr>\n",
              "      <th>...</th>\n",
              "      <td>...</td>\n",
              "      <td>...</td>\n",
              "      <td>...</td>\n",
              "      <td>...</td>\n",
              "    </tr>\n",
              "    <tr>\n",
              "      <th>1438763</th>\n",
              "      <td>3963</td>\n",
              "      <td>Queen of Demons</td>\n",
              "      <td>790</td>\n",
              "      <td>/1998Novels</td>\n",
              "    </tr>\n",
              "    <tr>\n",
              "      <th>1438764</th>\n",
              "      <td>3963</td>\n",
              "      <td>Queen of Demons</td>\n",
              "      <td>793</td>\n",
              "      <td>/Category:1998_novels</td>\n",
              "    </tr>\n",
              "    <tr>\n",
              "      <th>1438765</th>\n",
              "      <td>3963</td>\n",
              "      <td>Queen of Demons</td>\n",
              "      <td>4006</td>\n",
              "      <td>/David_Drake</td>\n",
              "    </tr>\n",
              "    <tr>\n",
              "      <th>1438766</th>\n",
              "      <td>3963</td>\n",
              "      <td>Queen of Demons</td>\n",
              "      <td>9393</td>\n",
              "      <td>/NovelsByDavidDrake</td>\n",
              "    </tr>\n",
              "    <tr>\n",
              "      <th>1438767</th>\n",
              "      <td>3963</td>\n",
              "      <td>Queen of Demons</td>\n",
              "      <td>9394</td>\n",
              "      <td>/Category:Novels_by_David_Drake</td>\n",
              "    </tr>\n",
              "  </tbody>\n",
              "</table>\n",
              "<p>102803 rows × 4 columns</p>\n",
              "</div>\n",
              "      <button class=\"colab-df-convert\" onclick=\"convertToInteractive('df-f13c96e8-73ee-469a-9fc9-9105d5343723')\"\n",
              "              title=\"Convert this dataframe to an interactive table.\"\n",
              "              style=\"display:none;\">\n",
              "        \n",
              "  <svg xmlns=\"http://www.w3.org/2000/svg\" height=\"24px\"viewBox=\"0 0 24 24\"\n",
              "       width=\"24px\">\n",
              "    <path d=\"M0 0h24v24H0V0z\" fill=\"none\"/>\n",
              "    <path d=\"M18.56 5.44l.94 2.06.94-2.06 2.06-.94-2.06-.94-.94-2.06-.94 2.06-2.06.94zm-11 1L8.5 8.5l.94-2.06 2.06-.94-2.06-.94L8.5 2.5l-.94 2.06-2.06.94zm10 10l.94 2.06.94-2.06 2.06-.94-2.06-.94-.94-2.06-.94 2.06-2.06.94z\"/><path d=\"M17.41 7.96l-1.37-1.37c-.4-.4-.92-.59-1.43-.59-.52 0-1.04.2-1.43.59L10.3 9.45l-7.72 7.72c-.78.78-.78 2.05 0 2.83L4 21.41c.39.39.9.59 1.41.59.51 0 1.02-.2 1.41-.59l7.78-7.78 2.81-2.81c.8-.78.8-2.07 0-2.86zM5.41 20L4 18.59l7.72-7.72 1.47 1.35L5.41 20z\"/>\n",
              "  </svg>\n",
              "      </button>\n",
              "      \n",
              "  <style>\n",
              "    .colab-df-container {\n",
              "      display:flex;\n",
              "      flex-wrap:wrap;\n",
              "      gap: 12px;\n",
              "    }\n",
              "\n",
              "    .colab-df-convert {\n",
              "      background-color: #E8F0FE;\n",
              "      border: none;\n",
              "      border-radius: 50%;\n",
              "      cursor: pointer;\n",
              "      display: none;\n",
              "      fill: #1967D2;\n",
              "      height: 32px;\n",
              "      padding: 0 0 0 0;\n",
              "      width: 32px;\n",
              "    }\n",
              "\n",
              "    .colab-df-convert:hover {\n",
              "      background-color: #E2EBFA;\n",
              "      box-shadow: 0px 1px 2px rgba(60, 64, 67, 0.3), 0px 1px 3px 1px rgba(60, 64, 67, 0.15);\n",
              "      fill: #174EA6;\n",
              "    }\n",
              "\n",
              "    [theme=dark] .colab-df-convert {\n",
              "      background-color: #3B4455;\n",
              "      fill: #D2E3FC;\n",
              "    }\n",
              "\n",
              "    [theme=dark] .colab-df-convert:hover {\n",
              "      background-color: #434B5C;\n",
              "      box-shadow: 0px 1px 3px 1px rgba(0, 0, 0, 0.15);\n",
              "      filter: drop-shadow(0px 1px 2px rgba(0, 0, 0, 0.3));\n",
              "      fill: #FFFFFF;\n",
              "    }\n",
              "  </style>\n",
              "\n",
              "      <script>\n",
              "        const buttonEl =\n",
              "          document.querySelector('#df-f13c96e8-73ee-469a-9fc9-9105d5343723 button.colab-df-convert');\n",
              "        buttonEl.style.display =\n",
              "          google.colab.kernel.accessAllowed ? 'block' : 'none';\n",
              "\n",
              "        async function convertToInteractive(key) {\n",
              "          const element = document.querySelector('#df-f13c96e8-73ee-469a-9fc9-9105d5343723');\n",
              "          const dataTable =\n",
              "            await google.colab.kernel.invokeFunction('convertToInteractive',\n",
              "                                                     [key], {});\n",
              "          if (!dataTable) return;\n",
              "\n",
              "          const docLinkHtml = 'Like what you see? Visit the ' +\n",
              "            '<a target=\"_blank\" href=https://colab.research.google.com/notebooks/data_table.ipynb>data table notebook</a>'\n",
              "            + ' to learn more about interactive tables.';\n",
              "          element.innerHTML = '';\n",
              "          dataTable['output_type'] = 'display_data';\n",
              "          await google.colab.output.renderOutput(dataTable, element);\n",
              "          const docLink = document.createElement('div');\n",
              "          docLink.innerHTML = docLinkHtml;\n",
              "          element.appendChild(docLink);\n",
              "        }\n",
              "      </script>\n",
              "    </div>\n",
              "  </div>\n",
              "  "
            ],
            "text/plain": [
              "         DBbook_ItemID                                name  featureID  \\\n",
              "0                  508  Contingency, Irony, and Solidarity       1066   \n",
              "1                  508  Contingency, Irony, and Solidarity       2300   \n",
              "2                  508  Contingency, Irony, and Solidarity       2301   \n",
              "3                  508  Contingency, Irony, and Solidarity       2302   \n",
              "4                  508  Contingency, Irony, and Solidarity       2303   \n",
              "...                ...                                 ...        ...   \n",
              "1438763           3963                     Queen of Demons        790   \n",
              "1438764           3963                     Queen of Demons        793   \n",
              "1438765           3963                     Queen of Demons       4006   \n",
              "1438766           3963                     Queen of Demons       9393   \n",
              "1438767           3963                     Queen of Demons       9394   \n",
              "\n",
              "                            featureShortname  \n",
              "0                       /Category:1989_books  \n",
              "1                             /Richard_Rorty  \n",
              "2        /Category:Works_about_Marcel_Proust  \n",
              "3           /Category:Books_by_Richard_Rorty  \n",
              "4                /Category:Books_about_irony  \n",
              "...                                      ...  \n",
              "1438763                          /1998Novels  \n",
              "1438764                /Category:1998_novels  \n",
              "1438765                         /David_Drake  \n",
              "1438766                  /NovelsByDavidDrake  \n",
              "1438767      /Category:Novels_by_David_Drake  \n",
              "\n",
              "[102803 rows x 4 columns]"
            ]
          },
          "metadata": {},
          "execution_count": 9
        }
      ]
    },
    {
      "cell_type": "markdown",
      "metadata": {
        "id": "yCw8uuvAXylr"
      },
      "source": [
        "Se quiere obtener una martiz que tenga como filas cada uno de los libros, y como columnas cada uno de los conceptos, y en cada coordenada un 1 si esta presente el concepto y 0 de lo contrario. A esta operación se le conoce como pivot de una tabla.\n",
        "\n",
        "La función [pivot](https://pandas.pydata.org/pandas-docs/stable/reference/api/pandas.DataFrame.pivot.html) toma tres parámetros: la columna del dataframe original que va a tomar el índice de las filas del nuevo dataframe (index), la columna del dataframe original mediante la cual se van a generar las columnas (columns) y values los valores con los cuales se va a llenar el dataframe, en este caso  vamos a dejar momentaneamente el id del feature para indicar que existe.\n",
        "\n",
        "Finalmente aplicamos la función [applymap](https://pandas.pydata.org/pandas-docs/stable/reference/api/pandas.DataFrame.applymap.html) para modificar uno a uno los elementos de la matriz\n",
        "\n"
      ]
    },
    {
      "cell_type": "code",
      "metadata": {
        "id": "DzJdYG-KHnJ3",
        "colab": {
          "base_uri": "https://localhost:8080/",
          "height": 455
        },
        "outputId": "5d6ba3a2-4f74-4c0d-8e71-b3a595e66ecf"
      },
      "source": [
        "df_matriz_libros_concepto=df_libros_concepto[['DBbook_ItemID','featureID']].drop_duplicates().pivot(index='DBbook_ItemID', columns='featureID', values='featureID')\n",
        "#La función astype int8 nos permite reducir el uso de memoria al dejar matrices de enteros\n",
        "df_matriz_libros_concepto=df_matriz_libros_concepto.applymap(np.sign).fillna(0).astype('int8')\n",
        "df_matriz_libros_concepto"
      ],
      "execution_count": null,
      "outputs": [
        {
          "output_type": "execute_result",
          "data": {
            "text/html": [
              "\n",
              "  <div id=\"df-2320fbb5-b182-4b15-a893-8adb4ce66d60\">\n",
              "    <div class=\"colab-df-container\">\n",
              "      <div>\n",
              "<style scoped>\n",
              "    .dataframe tbody tr th:only-of-type {\n",
              "        vertical-align: middle;\n",
              "    }\n",
              "\n",
              "    .dataframe tbody tr th {\n",
              "        vertical-align: top;\n",
              "    }\n",
              "\n",
              "    .dataframe thead th {\n",
              "        text-align: right;\n",
              "    }\n",
              "</style>\n",
              "<table border=\"1\" class=\"dataframe\">\n",
              "  <thead>\n",
              "    <tr style=\"text-align: right;\">\n",
              "      <th>featureID</th>\n",
              "      <th>1</th>\n",
              "      <th>2</th>\n",
              "      <th>3</th>\n",
              "      <th>4</th>\n",
              "      <th>5</th>\n",
              "      <th>6</th>\n",
              "      <th>7</th>\n",
              "      <th>8</th>\n",
              "      <th>9</th>\n",
              "      <th>10</th>\n",
              "      <th>...</th>\n",
              "      <th>13992</th>\n",
              "      <th>13993</th>\n",
              "      <th>13994</th>\n",
              "      <th>13995</th>\n",
              "      <th>13996</th>\n",
              "      <th>13997</th>\n",
              "      <th>13998</th>\n",
              "      <th>13999</th>\n",
              "      <th>14000</th>\n",
              "      <th>14001</th>\n",
              "    </tr>\n",
              "    <tr>\n",
              "      <th>DBbook_ItemID</th>\n",
              "      <th></th>\n",
              "      <th></th>\n",
              "      <th></th>\n",
              "      <th></th>\n",
              "      <th></th>\n",
              "      <th></th>\n",
              "      <th></th>\n",
              "      <th></th>\n",
              "      <th></th>\n",
              "      <th></th>\n",
              "      <th></th>\n",
              "      <th></th>\n",
              "      <th></th>\n",
              "      <th></th>\n",
              "      <th></th>\n",
              "      <th></th>\n",
              "      <th></th>\n",
              "      <th></th>\n",
              "      <th></th>\n",
              "      <th></th>\n",
              "      <th></th>\n",
              "    </tr>\n",
              "  </thead>\n",
              "  <tbody>\n",
              "    <tr>\n",
              "      <th>1</th>\n",
              "      <td>1</td>\n",
              "      <td>1</td>\n",
              "      <td>1</td>\n",
              "      <td>1</td>\n",
              "      <td>1</td>\n",
              "      <td>1</td>\n",
              "      <td>1</td>\n",
              "      <td>1</td>\n",
              "      <td>1</td>\n",
              "      <td>1</td>\n",
              "      <td>...</td>\n",
              "      <td>0</td>\n",
              "      <td>0</td>\n",
              "      <td>0</td>\n",
              "      <td>0</td>\n",
              "      <td>0</td>\n",
              "      <td>0</td>\n",
              "      <td>0</td>\n",
              "      <td>0</td>\n",
              "      <td>0</td>\n",
              "      <td>0</td>\n",
              "    </tr>\n",
              "    <tr>\n",
              "      <th>2</th>\n",
              "      <td>1</td>\n",
              "      <td>1</td>\n",
              "      <td>1</td>\n",
              "      <td>1</td>\n",
              "      <td>1</td>\n",
              "      <td>1</td>\n",
              "      <td>1</td>\n",
              "      <td>0</td>\n",
              "      <td>1</td>\n",
              "      <td>1</td>\n",
              "      <td>...</td>\n",
              "      <td>0</td>\n",
              "      <td>0</td>\n",
              "      <td>0</td>\n",
              "      <td>0</td>\n",
              "      <td>0</td>\n",
              "      <td>0</td>\n",
              "      <td>0</td>\n",
              "      <td>0</td>\n",
              "      <td>0</td>\n",
              "      <td>0</td>\n",
              "    </tr>\n",
              "    <tr>\n",
              "      <th>3</th>\n",
              "      <td>0</td>\n",
              "      <td>0</td>\n",
              "      <td>1</td>\n",
              "      <td>1</td>\n",
              "      <td>1</td>\n",
              "      <td>1</td>\n",
              "      <td>1</td>\n",
              "      <td>1</td>\n",
              "      <td>0</td>\n",
              "      <td>0</td>\n",
              "      <td>...</td>\n",
              "      <td>0</td>\n",
              "      <td>0</td>\n",
              "      <td>0</td>\n",
              "      <td>0</td>\n",
              "      <td>0</td>\n",
              "      <td>0</td>\n",
              "      <td>0</td>\n",
              "      <td>0</td>\n",
              "      <td>0</td>\n",
              "      <td>0</td>\n",
              "    </tr>\n",
              "    <tr>\n",
              "      <th>5</th>\n",
              "      <td>0</td>\n",
              "      <td>0</td>\n",
              "      <td>1</td>\n",
              "      <td>1</td>\n",
              "      <td>1</td>\n",
              "      <td>1</td>\n",
              "      <td>1</td>\n",
              "      <td>0</td>\n",
              "      <td>0</td>\n",
              "      <td>0</td>\n",
              "      <td>...</td>\n",
              "      <td>0</td>\n",
              "      <td>0</td>\n",
              "      <td>0</td>\n",
              "      <td>0</td>\n",
              "      <td>0</td>\n",
              "      <td>0</td>\n",
              "      <td>0</td>\n",
              "      <td>0</td>\n",
              "      <td>0</td>\n",
              "      <td>0</td>\n",
              "    </tr>\n",
              "    <tr>\n",
              "      <th>7</th>\n",
              "      <td>0</td>\n",
              "      <td>0</td>\n",
              "      <td>1</td>\n",
              "      <td>1</td>\n",
              "      <td>1</td>\n",
              "      <td>1</td>\n",
              "      <td>1</td>\n",
              "      <td>0</td>\n",
              "      <td>0</td>\n",
              "      <td>0</td>\n",
              "      <td>...</td>\n",
              "      <td>0</td>\n",
              "      <td>0</td>\n",
              "      <td>0</td>\n",
              "      <td>0</td>\n",
              "      <td>0</td>\n",
              "      <td>0</td>\n",
              "      <td>0</td>\n",
              "      <td>0</td>\n",
              "      <td>0</td>\n",
              "      <td>0</td>\n",
              "    </tr>\n",
              "    <tr>\n",
              "      <th>...</th>\n",
              "      <td>...</td>\n",
              "      <td>...</td>\n",
              "      <td>...</td>\n",
              "      <td>...</td>\n",
              "      <td>...</td>\n",
              "      <td>...</td>\n",
              "      <td>...</td>\n",
              "      <td>...</td>\n",
              "      <td>...</td>\n",
              "      <td>...</td>\n",
              "      <td>...</td>\n",
              "      <td>...</td>\n",
              "      <td>...</td>\n",
              "      <td>...</td>\n",
              "      <td>...</td>\n",
              "      <td>...</td>\n",
              "      <td>...</td>\n",
              "      <td>...</td>\n",
              "      <td>...</td>\n",
              "      <td>...</td>\n",
              "      <td>...</td>\n",
              "    </tr>\n",
              "    <tr>\n",
              "      <th>8164</th>\n",
              "      <td>0</td>\n",
              "      <td>0</td>\n",
              "      <td>1</td>\n",
              "      <td>1</td>\n",
              "      <td>1</td>\n",
              "      <td>1</td>\n",
              "      <td>1</td>\n",
              "      <td>0</td>\n",
              "      <td>0</td>\n",
              "      <td>0</td>\n",
              "      <td>...</td>\n",
              "      <td>0</td>\n",
              "      <td>0</td>\n",
              "      <td>0</td>\n",
              "      <td>0</td>\n",
              "      <td>0</td>\n",
              "      <td>0</td>\n",
              "      <td>0</td>\n",
              "      <td>0</td>\n",
              "      <td>0</td>\n",
              "      <td>0</td>\n",
              "    </tr>\n",
              "    <tr>\n",
              "      <th>8166</th>\n",
              "      <td>0</td>\n",
              "      <td>0</td>\n",
              "      <td>0</td>\n",
              "      <td>0</td>\n",
              "      <td>0</td>\n",
              "      <td>0</td>\n",
              "      <td>0</td>\n",
              "      <td>0</td>\n",
              "      <td>0</td>\n",
              "      <td>0</td>\n",
              "      <td>...</td>\n",
              "      <td>0</td>\n",
              "      <td>0</td>\n",
              "      <td>0</td>\n",
              "      <td>0</td>\n",
              "      <td>0</td>\n",
              "      <td>0</td>\n",
              "      <td>0</td>\n",
              "      <td>0</td>\n",
              "      <td>0</td>\n",
              "      <td>0</td>\n",
              "    </tr>\n",
              "    <tr>\n",
              "      <th>8167</th>\n",
              "      <td>0</td>\n",
              "      <td>0</td>\n",
              "      <td>0</td>\n",
              "      <td>0</td>\n",
              "      <td>0</td>\n",
              "      <td>0</td>\n",
              "      <td>0</td>\n",
              "      <td>0</td>\n",
              "      <td>0</td>\n",
              "      <td>0</td>\n",
              "      <td>...</td>\n",
              "      <td>0</td>\n",
              "      <td>0</td>\n",
              "      <td>0</td>\n",
              "      <td>0</td>\n",
              "      <td>0</td>\n",
              "      <td>0</td>\n",
              "      <td>0</td>\n",
              "      <td>0</td>\n",
              "      <td>0</td>\n",
              "      <td>0</td>\n",
              "    </tr>\n",
              "    <tr>\n",
              "      <th>8168</th>\n",
              "      <td>0</td>\n",
              "      <td>0</td>\n",
              "      <td>1</td>\n",
              "      <td>1</td>\n",
              "      <td>1</td>\n",
              "      <td>1</td>\n",
              "      <td>1</td>\n",
              "      <td>0</td>\n",
              "      <td>0</td>\n",
              "      <td>0</td>\n",
              "      <td>...</td>\n",
              "      <td>0</td>\n",
              "      <td>0</td>\n",
              "      <td>0</td>\n",
              "      <td>0</td>\n",
              "      <td>0</td>\n",
              "      <td>0</td>\n",
              "      <td>0</td>\n",
              "      <td>0</td>\n",
              "      <td>0</td>\n",
              "      <td>0</td>\n",
              "    </tr>\n",
              "    <tr>\n",
              "      <th>8169</th>\n",
              "      <td>0</td>\n",
              "      <td>0</td>\n",
              "      <td>1</td>\n",
              "      <td>1</td>\n",
              "      <td>1</td>\n",
              "      <td>1</td>\n",
              "      <td>1</td>\n",
              "      <td>0</td>\n",
              "      <td>0</td>\n",
              "      <td>0</td>\n",
              "      <td>...</td>\n",
              "      <td>0</td>\n",
              "      <td>0</td>\n",
              "      <td>0</td>\n",
              "      <td>1</td>\n",
              "      <td>1</td>\n",
              "      <td>0</td>\n",
              "      <td>0</td>\n",
              "      <td>0</td>\n",
              "      <td>0</td>\n",
              "      <td>0</td>\n",
              "    </tr>\n",
              "  </tbody>\n",
              "</table>\n",
              "<p>6164 rows × 12246 columns</p>\n",
              "</div>\n",
              "      <button class=\"colab-df-convert\" onclick=\"convertToInteractive('df-2320fbb5-b182-4b15-a893-8adb4ce66d60')\"\n",
              "              title=\"Convert this dataframe to an interactive table.\"\n",
              "              style=\"display:none;\">\n",
              "        \n",
              "  <svg xmlns=\"http://www.w3.org/2000/svg\" height=\"24px\"viewBox=\"0 0 24 24\"\n",
              "       width=\"24px\">\n",
              "    <path d=\"M0 0h24v24H0V0z\" fill=\"none\"/>\n",
              "    <path d=\"M18.56 5.44l.94 2.06.94-2.06 2.06-.94-2.06-.94-.94-2.06-.94 2.06-2.06.94zm-11 1L8.5 8.5l.94-2.06 2.06-.94-2.06-.94L8.5 2.5l-.94 2.06-2.06.94zm10 10l.94 2.06.94-2.06 2.06-.94-2.06-.94-.94-2.06-.94 2.06-2.06.94z\"/><path d=\"M17.41 7.96l-1.37-1.37c-.4-.4-.92-.59-1.43-.59-.52 0-1.04.2-1.43.59L10.3 9.45l-7.72 7.72c-.78.78-.78 2.05 0 2.83L4 21.41c.39.39.9.59 1.41.59.51 0 1.02-.2 1.41-.59l7.78-7.78 2.81-2.81c.8-.78.8-2.07 0-2.86zM5.41 20L4 18.59l7.72-7.72 1.47 1.35L5.41 20z\"/>\n",
              "  </svg>\n",
              "      </button>\n",
              "      \n",
              "  <style>\n",
              "    .colab-df-container {\n",
              "      display:flex;\n",
              "      flex-wrap:wrap;\n",
              "      gap: 12px;\n",
              "    }\n",
              "\n",
              "    .colab-df-convert {\n",
              "      background-color: #E8F0FE;\n",
              "      border: none;\n",
              "      border-radius: 50%;\n",
              "      cursor: pointer;\n",
              "      display: none;\n",
              "      fill: #1967D2;\n",
              "      height: 32px;\n",
              "      padding: 0 0 0 0;\n",
              "      width: 32px;\n",
              "    }\n",
              "\n",
              "    .colab-df-convert:hover {\n",
              "      background-color: #E2EBFA;\n",
              "      box-shadow: 0px 1px 2px rgba(60, 64, 67, 0.3), 0px 1px 3px 1px rgba(60, 64, 67, 0.15);\n",
              "      fill: #174EA6;\n",
              "    }\n",
              "\n",
              "    [theme=dark] .colab-df-convert {\n",
              "      background-color: #3B4455;\n",
              "      fill: #D2E3FC;\n",
              "    }\n",
              "\n",
              "    [theme=dark] .colab-df-convert:hover {\n",
              "      background-color: #434B5C;\n",
              "      box-shadow: 0px 1px 3px 1px rgba(0, 0, 0, 0.15);\n",
              "      filter: drop-shadow(0px 1px 2px rgba(0, 0, 0, 0.3));\n",
              "      fill: #FFFFFF;\n",
              "    }\n",
              "  </style>\n",
              "\n",
              "      <script>\n",
              "        const buttonEl =\n",
              "          document.querySelector('#df-2320fbb5-b182-4b15-a893-8adb4ce66d60 button.colab-df-convert');\n",
              "        buttonEl.style.display =\n",
              "          google.colab.kernel.accessAllowed ? 'block' : 'none';\n",
              "\n",
              "        async function convertToInteractive(key) {\n",
              "          const element = document.querySelector('#df-2320fbb5-b182-4b15-a893-8adb4ce66d60');\n",
              "          const dataTable =\n",
              "            await google.colab.kernel.invokeFunction('convertToInteractive',\n",
              "                                                     [key], {});\n",
              "          if (!dataTable) return;\n",
              "\n",
              "          const docLinkHtml = 'Like what you see? Visit the ' +\n",
              "            '<a target=\"_blank\" href=https://colab.research.google.com/notebooks/data_table.ipynb>data table notebook</a>'\n",
              "            + ' to learn more about interactive tables.';\n",
              "          element.innerHTML = '';\n",
              "          dataTable['output_type'] = 'display_data';\n",
              "          await google.colab.output.renderOutput(dataTable, element);\n",
              "          const docLink = document.createElement('div');\n",
              "          docLink.innerHTML = docLinkHtml;\n",
              "          element.appendChild(docLink);\n",
              "        }\n",
              "      </script>\n",
              "    </div>\n",
              "  </div>\n",
              "  "
            ],
            "text/plain": [
              "featureID      1      2      3      4      5      6      7      8      9      \\\n",
              "DBbook_ItemID                                                                  \n",
              "1                  1      1      1      1      1      1      1      1      1   \n",
              "2                  1      1      1      1      1      1      1      0      1   \n",
              "3                  0      0      1      1      1      1      1      1      0   \n",
              "5                  0      0      1      1      1      1      1      0      0   \n",
              "7                  0      0      1      1      1      1      1      0      0   \n",
              "...              ...    ...    ...    ...    ...    ...    ...    ...    ...   \n",
              "8164               0      0      1      1      1      1      1      0      0   \n",
              "8166               0      0      0      0      0      0      0      0      0   \n",
              "8167               0      0      0      0      0      0      0      0      0   \n",
              "8168               0      0      1      1      1      1      1      0      0   \n",
              "8169               0      0      1      1      1      1      1      0      0   \n",
              "\n",
              "featureID      10     ...  13992  13993  13994  13995  13996  13997  13998  \\\n",
              "DBbook_ItemID         ...                                                    \n",
              "1                  1  ...      0      0      0      0      0      0      0   \n",
              "2                  1  ...      0      0      0      0      0      0      0   \n",
              "3                  0  ...      0      0      0      0      0      0      0   \n",
              "5                  0  ...      0      0      0      0      0      0      0   \n",
              "7                  0  ...      0      0      0      0      0      0      0   \n",
              "...              ...  ...    ...    ...    ...    ...    ...    ...    ...   \n",
              "8164               0  ...      0      0      0      0      0      0      0   \n",
              "8166               0  ...      0      0      0      0      0      0      0   \n",
              "8167               0  ...      0      0      0      0      0      0      0   \n",
              "8168               0  ...      0      0      0      0      0      0      0   \n",
              "8169               0  ...      0      0      0      1      1      0      0   \n",
              "\n",
              "featureID      13999  14000  14001  \n",
              "DBbook_ItemID                       \n",
              "1                  0      0      0  \n",
              "2                  0      0      0  \n",
              "3                  0      0      0  \n",
              "5                  0      0      0  \n",
              "7                  0      0      0  \n",
              "...              ...    ...    ...  \n",
              "8164               0      0      0  \n",
              "8166               0      0      0  \n",
              "8167               0      0      0  \n",
              "8168               0      0      0  \n",
              "8169               0      0      0  \n",
              "\n",
              "[6164 rows x 12246 columns]"
            ]
          },
          "metadata": {},
          "execution_count": 10
        }
      ]
    },
    {
      "cell_type": "code",
      "metadata": {
        "id": "TkPuSt24UTCF",
        "colab": {
          "base_uri": "https://localhost:8080/"
        },
        "outputId": "17c20224-062f-4564-c9c1-5f740205619c"
      },
      "source": [
        "df_matriz_libros_concepto.shape"
      ],
      "execution_count": null,
      "outputs": [
        {
          "output_type": "execute_result",
          "data": {
            "text/plain": [
              "(6164, 12246)"
            ]
          },
          "metadata": {},
          "execution_count": 11
        }
      ]
    },
    {
      "cell_type": "markdown",
      "metadata": {
        "id": "qbHHztT_OI8f"
      },
      "source": [
        "En la siguiente celda se está aplicando la función [sumatoria](https://www.geeksforgeeks.org/python-pandas-dataframe-sum/) por eje al dataframe anterior, por defecto el eje es 0, por lo que generará una Serie (vector) del tamaño de las columnas y por cada columna calculará la sumatoria"
      ]
    },
    {
      "cell_type": "code",
      "metadata": {
        "id": "kzOcvNAR9h_J"
      },
      "source": [
        "help(pd.DataFrame.sum)"
      ],
      "execution_count": null,
      "outputs": []
    },
    {
      "cell_type": "code",
      "metadata": {
        "id": "TuhKo_lLZd4U",
        "colab": {
          "base_uri": "https://localhost:8080/"
        },
        "outputId": "fc588f99-cb20-48e8-d46b-fb9ad3707124"
      },
      "source": [
        "series_suma=df_matriz_libros_concepto.sum()\n",
        "series_suma"
      ],
      "execution_count": null,
      "outputs": [
        {
          "output_type": "execute_result",
          "data": {
            "text/plain": [
              "featureID\n",
              "1           6\n",
              "2         225\n",
              "3        2766\n",
              "4        2672\n",
              "5        2674\n",
              "         ... \n",
              "13997       1\n",
              "13998       1\n",
              "13999       1\n",
              "14000       1\n",
              "14001       1\n",
              "Length: 12246, dtype: int64"
            ]
          },
          "metadata": {},
          "execution_count": 12
        }
      ]
    },
    {
      "cell_type": "markdown",
      "metadata": {
        "id": "ceDsHNaXTlYk"
      },
      "source": [
        "El objeto series_suma no es un dataframe sino un objeto tipo Series, que es un arreglo. Un dataframe puede ser visto como una concatenación de varios objetos de tipo Series"
      ]
    },
    {
      "cell_type": "code",
      "metadata": {
        "id": "BqIJoQulTdhW",
        "colab": {
          "base_uri": "https://localhost:8080/"
        },
        "outputId": "d8a9eb03-c725-4d79-c7fd-c0fed67763ff"
      },
      "source": [
        "type(series_suma)"
      ],
      "execution_count": null,
      "outputs": [
        {
          "output_type": "execute_result",
          "data": {
            "text/plain": [
              "pandas.core.series.Series"
            ]
          },
          "metadata": {},
          "execution_count": 14
        }
      ]
    },
    {
      "cell_type": "markdown",
      "metadata": {
        "id": "mDO_1AqmfAXq"
      },
      "source": [
        "**Interprete las siguientes figuras y diga qué quieren decir en términos del número de items y de características asignadas a los items**"
      ]
    },
    {
      "cell_type": "code",
      "metadata": {
        "id": "k0e3niVqdRU7",
        "colab": {
          "base_uri": "https://localhost:8080/",
          "height": 337
        },
        "outputId": "95bb2f68-615b-4105-e8bc-08e3ae4ee6c9"
      },
      "source": [
        "sns.scatterplot(range(0,len(series_suma)) ,series_suma.sort_values() )"
      ],
      "execution_count": null,
      "outputs": [
        {
          "output_type": "stream",
          "name": "stderr",
          "text": [
            "/usr/local/lib/python3.7/dist-packages/seaborn/_decorators.py:43: FutureWarning: Pass the following variables as keyword args: x, y. From version 0.12, the only valid positional argument will be `data`, and passing other arguments without an explicit keyword will result in an error or misinterpretation.\n",
            "  FutureWarning\n"
          ]
        },
        {
          "output_type": "execute_result",
          "data": {
            "text/plain": [
              "<matplotlib.axes._subplots.AxesSubplot at 0x7f19de983750>"
            ]
          },
          "metadata": {},
          "execution_count": 22
        },
        {
          "output_type": "display_data",
          "data": {
            "image/png": "[encoded data removed]",
            "text/plain": [
              "<Figure size 432x288 with 1 Axes>"
            ]
          },
          "metadata": {
            "needs_background": "light"
          }
        }
      ]
    },
    {
      "cell_type": "markdown",
      "source": [
        "Pocos features asociados a muchos libros y muchos features asociados a pocos libros. Es decir, la mayoría de libros tratan sobre temas similares según sus features. Tiene comportamiento de cola larga.\n",
        "\n",
        "---\n",
        "\n"
      ],
      "metadata": {
        "id": "2a-gNri-dB4v"
      }
    },
    {
      "cell_type": "code",
      "metadata": {
        "id": "RH9SPa1RcCg6",
        "colab": {
          "base_uri": "https://localhost:8080/"
        },
        "outputId": "a03c143b-b9bd-4cc7-fe5f-2b35e94464cb"
      },
      "source": [
        "series_suma_2=df_matriz_libros_concepto.sum(axis=1)\n",
        "series_suma_2"
      ],
      "execution_count": null,
      "outputs": [
        {
          "output_type": "execute_result",
          "data": {
            "text/plain": [
              "DBbook_ItemID\n",
              "1       23\n",
              "2       20\n",
              "3       36\n",
              "5       23\n",
              "7       22\n",
              "        ..\n",
              "8164    23\n",
              "8166    13\n",
              "8167    17\n",
              "8168    22\n",
              "8169    25\n",
              "Length: 6164, dtype: int64"
            ]
          },
          "metadata": {},
          "execution_count": 13
        }
      ]
    },
    {
      "cell_type": "code",
      "metadata": {
        "id": "AaVYz0MGd3hS",
        "colab": {
          "base_uri": "https://localhost:8080/",
          "height": 337
        },
        "outputId": "7ccaf08d-f902-4b87-d4f4-4ab5d40b33f8"
      },
      "source": [
        "sns.scatterplot(range(0,len(series_suma_2)) ,series_suma_2.sort_values() )"
      ],
      "execution_count": null,
      "outputs": [
        {
          "output_type": "stream",
          "name": "stderr",
          "text": [
            "/usr/local/lib/python3.7/dist-packages/seaborn/_decorators.py:43: FutureWarning: Pass the following variables as keyword args: x, y. From version 0.12, the only valid positional argument will be `data`, and passing other arguments without an explicit keyword will result in an error or misinterpretation.\n",
            "  FutureWarning\n"
          ]
        },
        {
          "output_type": "execute_result",
          "data": {
            "text/plain": [
              "<matplotlib.axes._subplots.AxesSubplot at 0x7f19df701a90>"
            ]
          },
          "metadata": {},
          "execution_count": 17
        },
        {
          "output_type": "display_data",
          "data": {
            "image/png": "[encoded data removed]",
            "text/plain": [
              "<Figure size 432x288 with 1 Axes>"
            ]
          },
          "metadata": {
            "needs_background": "light"
          }
        }
      ]
    },
    {
      "cell_type": "markdown",
      "source": [
        "La mayoría de libros tiene una cantidad similar de conceptos, entre 15 a 25 conceptos o categorias. Hay aproximadamente mil libros con pocas caracteristicas. Y en los libros con muchas características hay mucha dispersion / fenómeno cola larga  ya que la pendiente incrementa rápidamente."
      ],
      "metadata": {
        "id": "66zs55tVcvjU"
      }
    },
    {
      "cell_type": "markdown",
      "metadata": {
        "id": "ZECBhVmYikdo"
      },
      "source": [
        "# Cálculo de matriz tf-idf\n",
        "\n",
        "La matriz df_matriz_libros_concepto hasta el momento tiene en cada coordenada la presencia o ausencia de la característica que describe el atributo, este sería el término $\\text{tf}$ de la siguiente fórmula donde $i$ es un término o palabra y $d$ es un documento.\n",
        "\n",
        "$\\text{tfidf}_{i,d} = \\text{tf}_{i,d} \\cdot \\text{idf}_{i}$\n",
        "\n",
        "El Inverse Document Frequency esta definido como:\n",
        "\n",
        "$\\text{idf}_{i,d} = \\log \\frac{N}{\\text{df}_{i}}$\n",
        "\n",
        "Donde $\\text{df}_{t}$ es el número de documentos en los que aparece el término $i$ y N el número total de documentos \n",
        "\n"
      ]
    },
    {
      "cell_type": "markdown",
      "metadata": {
        "id": "scSusoGhP-Y-"
      },
      "source": [
        "En python es posible operar vectores con escalares directamente, gracias a que por debajo python genera operaciones entre arreglos cuando operamos con un escalar mediante la operación de [broadcasting](https://jakevdp.github.io/PythonDataScienceHandbook/02.05-computation-on-arrays-broadcasting.html) Por ejemplo, el anterior arreglo se puede dividir entre 6, por debajo python genera un arreglo del mismo tamaño y realiza la operación elemento a elemento"
      ]
    },
    {
      "cell_type": "code",
      "metadata": {
        "id": "QPaJm6-HNfng"
      },
      "source": [
        "series_suma/6"
      ],
      "execution_count": null,
      "outputs": []
    },
    {
      "cell_type": "markdown",
      "metadata": {
        "id": "Vk8kecfgTTP7"
      },
      "source": [
        "En las siguientes celdas, cree un objeto tipo series llamado df_idf, que contiene el IDF de cada atributo. Puede utilizar la función [np.log2](https://docs.scipy.org/doc/numpy/reference/generated/numpy.log2.html) de numpy"
      ]
    },
    {
      "cell_type": "code",
      "metadata": {
        "id": "FtKa4d7XTOEx",
        "colab": {
          "base_uri": "https://localhost:8080/"
        },
        "outputId": "514c4539-6a7e-4748-ba67-98e38af41ff2"
      },
      "source": [
        "\n",
        "df_idf=   np.log2( np.shape(df_matriz_libros_concepto)[0]/ series_suma)\n",
        "df_idf"
      ],
      "execution_count": null,
      "outputs": [
        {
          "output_type": "execute_result",
          "data": {
            "text/plain": [
              "featureID\n",
              "1        10.004689\n",
              "2         4.775870\n",
              "3         1.156066\n",
              "4         1.205947\n",
              "5         1.204867\n",
              "           ...    \n",
              "13997    12.589651\n",
              "13998    12.589651\n",
              "13999    12.589651\n",
              "14000    12.589651\n",
              "14001    12.589651\n",
              "Length: 12246, dtype: float64"
            ]
          },
          "metadata": {},
          "execution_count": 14
        }
      ]
    },
    {
      "cell_type": "markdown",
      "metadata": {
        "id": "tBQhrEL-U381"
      },
      "source": [
        "Si df_idf fue calculado correctamente, la siguiente instrucción multiplicará cada fila del dataframe elemento por elemento (element-wise) por la serie que contiene el IDF"
      ]
    },
    {
      "cell_type": "code",
      "metadata": {
        "id": "mOq3GJd7UWs7",
        "colab": {
          "base_uri": "https://localhost:8080/",
          "height": 519
        },
        "outputId": "b66cbe84-9016-407a-885c-146ebf062daa"
      },
      "source": [
        "df_matriz_tf_idf=df_matriz_libros_concepto.multiply(df_idf, axis=1)\n",
        "df_matriz_tf_idf"
      ],
      "execution_count": null,
      "outputs": [
        {
          "output_type": "execute_result",
          "data": {
            "text/html": [
              "\n",
              "  <div id=\"df-1c929a61-d36c-43fa-9075-ced064062812\">\n",
              "    <div class=\"colab-df-container\">\n",
              "      <div>\n",
              "<style scoped>\n",
              "    .dataframe tbody tr th:only-of-type {\n",
              "        vertical-align: middle;\n",
              "    }\n",
              "\n",
              "    .dataframe tbody tr th {\n",
              "        vertical-align: top;\n",
              "    }\n",
              "\n",
              "    .dataframe thead th {\n",
              "        text-align: right;\n",
              "    }\n",
              "</style>\n",
              "<table border=\"1\" class=\"dataframe\">\n",
              "  <thead>\n",
              "    <tr style=\"text-align: right;\">\n",
              "      <th>featureID</th>\n",
              "      <th>1</th>\n",
              "      <th>2</th>\n",
              "      <th>3</th>\n",
              "      <th>4</th>\n",
              "      <th>5</th>\n",
              "      <th>6</th>\n",
              "      <th>7</th>\n",
              "      <th>8</th>\n",
              "      <th>9</th>\n",
              "      <th>10</th>\n",
              "      <th>...</th>\n",
              "      <th>13992</th>\n",
              "      <th>13993</th>\n",
              "      <th>13994</th>\n",
              "      <th>13995</th>\n",
              "      <th>13996</th>\n",
              "      <th>13997</th>\n",
              "      <th>13998</th>\n",
              "      <th>13999</th>\n",
              "      <th>14000</th>\n",
              "      <th>14001</th>\n",
              "    </tr>\n",
              "    <tr>\n",
              "      <th>DBbook_ItemID</th>\n",
              "      <th></th>\n",
              "      <th></th>\n",
              "      <th></th>\n",
              "      <th></th>\n",
              "      <th></th>\n",
              "      <th></th>\n",
              "      <th></th>\n",
              "      <th></th>\n",
              "      <th></th>\n",
              "      <th></th>\n",
              "      <th></th>\n",
              "      <th></th>\n",
              "      <th></th>\n",
              "      <th></th>\n",
              "      <th></th>\n",
              "      <th></th>\n",
              "      <th></th>\n",
              "      <th></th>\n",
              "      <th></th>\n",
              "      <th></th>\n",
              "      <th></th>\n",
              "    </tr>\n",
              "  </thead>\n",
              "  <tbody>\n",
              "    <tr>\n",
              "      <th>1</th>\n",
              "      <td>10.004689</td>\n",
              "      <td>4.77587</td>\n",
              "      <td>1.156066</td>\n",
              "      <td>1.205947</td>\n",
              "      <td>1.204867</td>\n",
              "      <td>1.158676</td>\n",
              "      <td>1.158676</td>\n",
              "      <td>6.808291</td>\n",
              "      <td>7.035062</td>\n",
              "      <td>9.589651</td>\n",
              "      <td>...</td>\n",
              "      <td>0.0</td>\n",
              "      <td>0.0</td>\n",
              "      <td>0.0</td>\n",
              "      <td>0.000000</td>\n",
              "      <td>0.000000</td>\n",
              "      <td>0.0</td>\n",
              "      <td>0.0</td>\n",
              "      <td>0.0</td>\n",
              "      <td>0.0</td>\n",
              "      <td>0.0</td>\n",
              "    </tr>\n",
              "    <tr>\n",
              "      <th>2</th>\n",
              "      <td>10.004689</td>\n",
              "      <td>4.77587</td>\n",
              "      <td>1.156066</td>\n",
              "      <td>1.205947</td>\n",
              "      <td>1.204867</td>\n",
              "      <td>1.158676</td>\n",
              "      <td>1.158676</td>\n",
              "      <td>0.000000</td>\n",
              "      <td>7.035062</td>\n",
              "      <td>9.589651</td>\n",
              "      <td>...</td>\n",
              "      <td>0.0</td>\n",
              "      <td>0.0</td>\n",
              "      <td>0.0</td>\n",
              "      <td>0.000000</td>\n",
              "      <td>0.000000</td>\n",
              "      <td>0.0</td>\n",
              "      <td>0.0</td>\n",
              "      <td>0.0</td>\n",
              "      <td>0.0</td>\n",
              "      <td>0.0</td>\n",
              "    </tr>\n",
              "    <tr>\n",
              "      <th>3</th>\n",
              "      <td>0.000000</td>\n",
              "      <td>0.00000</td>\n",
              "      <td>1.156066</td>\n",
              "      <td>1.205947</td>\n",
              "      <td>1.204867</td>\n",
              "      <td>1.158676</td>\n",
              "      <td>1.158676</td>\n",
              "      <td>6.808291</td>\n",
              "      <td>0.000000</td>\n",
              "      <td>0.000000</td>\n",
              "      <td>...</td>\n",
              "      <td>0.0</td>\n",
              "      <td>0.0</td>\n",
              "      <td>0.0</td>\n",
              "      <td>0.000000</td>\n",
              "      <td>0.000000</td>\n",
              "      <td>0.0</td>\n",
              "      <td>0.0</td>\n",
              "      <td>0.0</td>\n",
              "      <td>0.0</td>\n",
              "      <td>0.0</td>\n",
              "    </tr>\n",
              "    <tr>\n",
              "      <th>5</th>\n",
              "      <td>0.000000</td>\n",
              "      <td>0.00000</td>\n",
              "      <td>1.156066</td>\n",
              "      <td>1.205947</td>\n",
              "      <td>1.204867</td>\n",
              "      <td>1.158676</td>\n",
              "      <td>1.158676</td>\n",
              "      <td>0.000000</td>\n",
              "      <td>0.000000</td>\n",
              "      <td>0.000000</td>\n",
              "      <td>...</td>\n",
              "      <td>0.0</td>\n",
              "      <td>0.0</td>\n",
              "      <td>0.0</td>\n",
              "      <td>0.000000</td>\n",
              "      <td>0.000000</td>\n",
              "      <td>0.0</td>\n",
              "      <td>0.0</td>\n",
              "      <td>0.0</td>\n",
              "      <td>0.0</td>\n",
              "      <td>0.0</td>\n",
              "    </tr>\n",
              "    <tr>\n",
              "      <th>7</th>\n",
              "      <td>0.000000</td>\n",
              "      <td>0.00000</td>\n",
              "      <td>1.156066</td>\n",
              "      <td>1.205947</td>\n",
              "      <td>1.204867</td>\n",
              "      <td>1.158676</td>\n",
              "      <td>1.158676</td>\n",
              "      <td>0.000000</td>\n",
              "      <td>0.000000</td>\n",
              "      <td>0.000000</td>\n",
              "      <td>...</td>\n",
              "      <td>0.0</td>\n",
              "      <td>0.0</td>\n",
              "      <td>0.0</td>\n",
              "      <td>0.000000</td>\n",
              "      <td>0.000000</td>\n",
              "      <td>0.0</td>\n",
              "      <td>0.0</td>\n",
              "      <td>0.0</td>\n",
              "      <td>0.0</td>\n",
              "      <td>0.0</td>\n",
              "    </tr>\n",
              "    <tr>\n",
              "      <th>...</th>\n",
              "      <td>...</td>\n",
              "      <td>...</td>\n",
              "      <td>...</td>\n",
              "      <td>...</td>\n",
              "      <td>...</td>\n",
              "      <td>...</td>\n",
              "      <td>...</td>\n",
              "      <td>...</td>\n",
              "      <td>...</td>\n",
              "      <td>...</td>\n",
              "      <td>...</td>\n",
              "      <td>...</td>\n",
              "      <td>...</td>\n",
              "      <td>...</td>\n",
              "      <td>...</td>\n",
              "      <td>...</td>\n",
              "      <td>...</td>\n",
              "      <td>...</td>\n",
              "      <td>...</td>\n",
              "      <td>...</td>\n",
              "      <td>...</td>\n",
              "    </tr>\n",
              "    <tr>\n",
              "      <th>8164</th>\n",
              "      <td>0.000000</td>\n",
              "      <td>0.00000</td>\n",
              "      <td>1.156066</td>\n",
              "      <td>1.205947</td>\n",
              "      <td>1.204867</td>\n",
              "      <td>1.158676</td>\n",
              "      <td>1.158676</td>\n",
              "      <td>0.000000</td>\n",
              "      <td>0.000000</td>\n",
              "      <td>0.000000</td>\n",
              "      <td>...</td>\n",
              "      <td>0.0</td>\n",
              "      <td>0.0</td>\n",
              "      <td>0.0</td>\n",
              "      <td>0.000000</td>\n",
              "      <td>0.000000</td>\n",
              "      <td>0.0</td>\n",
              "      <td>0.0</td>\n",
              "      <td>0.0</td>\n",
              "      <td>0.0</td>\n",
              "      <td>0.0</td>\n",
              "    </tr>\n",
              "    <tr>\n",
              "      <th>8166</th>\n",
              "      <td>0.000000</td>\n",
              "      <td>0.00000</td>\n",
              "      <td>0.000000</td>\n",
              "      <td>0.000000</td>\n",
              "      <td>0.000000</td>\n",
              "      <td>0.000000</td>\n",
              "      <td>0.000000</td>\n",
              "      <td>0.000000</td>\n",
              "      <td>0.000000</td>\n",
              "      <td>0.000000</td>\n",
              "      <td>...</td>\n",
              "      <td>0.0</td>\n",
              "      <td>0.0</td>\n",
              "      <td>0.0</td>\n",
              "      <td>0.000000</td>\n",
              "      <td>0.000000</td>\n",
              "      <td>0.0</td>\n",
              "      <td>0.0</td>\n",
              "      <td>0.0</td>\n",
              "      <td>0.0</td>\n",
              "      <td>0.0</td>\n",
              "    </tr>\n",
              "    <tr>\n",
              "      <th>8167</th>\n",
              "      <td>0.000000</td>\n",
              "      <td>0.00000</td>\n",
              "      <td>0.000000</td>\n",
              "      <td>0.000000</td>\n",
              "      <td>0.000000</td>\n",
              "      <td>0.000000</td>\n",
              "      <td>0.000000</td>\n",
              "      <td>0.000000</td>\n",
              "      <td>0.000000</td>\n",
              "      <td>0.000000</td>\n",
              "      <td>...</td>\n",
              "      <td>0.0</td>\n",
              "      <td>0.0</td>\n",
              "      <td>0.0</td>\n",
              "      <td>0.000000</td>\n",
              "      <td>0.000000</td>\n",
              "      <td>0.0</td>\n",
              "      <td>0.0</td>\n",
              "      <td>0.0</td>\n",
              "      <td>0.0</td>\n",
              "      <td>0.0</td>\n",
              "    </tr>\n",
              "    <tr>\n",
              "      <th>8168</th>\n",
              "      <td>0.000000</td>\n",
              "      <td>0.00000</td>\n",
              "      <td>1.156066</td>\n",
              "      <td>1.205947</td>\n",
              "      <td>1.204867</td>\n",
              "      <td>1.158676</td>\n",
              "      <td>1.158676</td>\n",
              "      <td>0.000000</td>\n",
              "      <td>0.000000</td>\n",
              "      <td>0.000000</td>\n",
              "      <td>...</td>\n",
              "      <td>0.0</td>\n",
              "      <td>0.0</td>\n",
              "      <td>0.0</td>\n",
              "      <td>0.000000</td>\n",
              "      <td>0.000000</td>\n",
              "      <td>0.0</td>\n",
              "      <td>0.0</td>\n",
              "      <td>0.0</td>\n",
              "      <td>0.0</td>\n",
              "      <td>0.0</td>\n",
              "    </tr>\n",
              "    <tr>\n",
              "      <th>8169</th>\n",
              "      <td>0.000000</td>\n",
              "      <td>0.00000</td>\n",
              "      <td>1.156066</td>\n",
              "      <td>1.205947</td>\n",
              "      <td>1.204867</td>\n",
              "      <td>1.158676</td>\n",
              "      <td>1.158676</td>\n",
              "      <td>0.000000</td>\n",
              "      <td>0.000000</td>\n",
              "      <td>0.000000</td>\n",
              "      <td>...</td>\n",
              "      <td>0.0</td>\n",
              "      <td>0.0</td>\n",
              "      <td>0.0</td>\n",
              "      <td>12.589651</td>\n",
              "      <td>12.589651</td>\n",
              "      <td>0.0</td>\n",
              "      <td>0.0</td>\n",
              "      <td>0.0</td>\n",
              "      <td>0.0</td>\n",
              "      <td>0.0</td>\n",
              "    </tr>\n",
              "  </tbody>\n",
              "</table>\n",
              "<p>6164 rows × 12246 columns</p>\n",
              "</div>\n",
              "      <button class=\"colab-df-convert\" onclick=\"convertToInteractive('df-1c929a61-d36c-43fa-9075-ced064062812')\"\n",
              "              title=\"Convert this dataframe to an interactive table.\"\n",
              "              style=\"display:none;\">\n",
              "        \n",
              "  <svg xmlns=\"http://www.w3.org/2000/svg\" height=\"24px\"viewBox=\"0 0 24 24\"\n",
              "       width=\"24px\">\n",
              "    <path d=\"M0 0h24v24H0V0z\" fill=\"none\"/>\n",
              "    <path d=\"M18.56 5.44l.94 2.06.94-2.06 2.06-.94-2.06-.94-.94-2.06-.94 2.06-2.06.94zm-11 1L8.5 8.5l.94-2.06 2.06-.94-2.06-.94L8.5 2.5l-.94 2.06-2.06.94zm10 10l.94 2.06.94-2.06 2.06-.94-2.06-.94-.94-2.06-.94 2.06-2.06.94z\"/><path d=\"M17.41 7.96l-1.37-1.37c-.4-.4-.92-.59-1.43-.59-.52 0-1.04.2-1.43.59L10.3 9.45l-7.72 7.72c-.78.78-.78 2.05 0 2.83L4 21.41c.39.39.9.59 1.41.59.51 0 1.02-.2 1.41-.59l7.78-7.78 2.81-2.81c.8-.78.8-2.07 0-2.86zM5.41 20L4 18.59l7.72-7.72 1.47 1.35L5.41 20z\"/>\n",
              "  </svg>\n",
              "      </button>\n",
              "      \n",
              "  <style>\n",
              "    .colab-df-container {\n",
              "      display:flex;\n",
              "      flex-wrap:wrap;\n",
              "      gap: 12px;\n",
              "    }\n",
              "\n",
              "    .colab-df-convert {\n",
              "      background-color: #E8F0FE;\n",
              "      border: none;\n",
              "      border-radius: 50%;\n",
              "      cursor: pointer;\n",
              "      display: none;\n",
              "      fill: #1967D2;\n",
              "      height: 32px;\n",
              "      padding: 0 0 0 0;\n",
              "      width: 32px;\n",
              "    }\n",
              "\n",
              "    .colab-df-convert:hover {\n",
              "      background-color: #E2EBFA;\n",
              "      box-shadow: 0px 1px 2px rgba(60, 64, 67, 0.3), 0px 1px 3px 1px rgba(60, 64, 67, 0.15);\n",
              "      fill: #174EA6;\n",
              "    }\n",
              "\n",
              "    [theme=dark] .colab-df-convert {\n",
              "      background-color: #3B4455;\n",
              "      fill: #D2E3FC;\n",
              "    }\n",
              "\n",
              "    [theme=dark] .colab-df-convert:hover {\n",
              "      background-color: #434B5C;\n",
              "      box-shadow: 0px 1px 3px 1px rgba(0, 0, 0, 0.15);\n",
              "      filter: drop-shadow(0px 1px 2px rgba(0, 0, 0, 0.3));\n",
              "      fill: #FFFFFF;\n",
              "    }\n",
              "  </style>\n",
              "\n",
              "      <script>\n",
              "        const buttonEl =\n",
              "          document.querySelector('#df-1c929a61-d36c-43fa-9075-ced064062812 button.colab-df-convert');\n",
              "        buttonEl.style.display =\n",
              "          google.colab.kernel.accessAllowed ? 'block' : 'none';\n",
              "\n",
              "        async function convertToInteractive(key) {\n",
              "          const element = document.querySelector('#df-1c929a61-d36c-43fa-9075-ced064062812');\n",
              "          const dataTable =\n",
              "            await google.colab.kernel.invokeFunction('convertToInteractive',\n",
              "                                                     [key], {});\n",
              "          if (!dataTable) return;\n",
              "\n",
              "          const docLinkHtml = 'Like what you see? Visit the ' +\n",
              "            '<a target=\"_blank\" href=https://colab.research.google.com/notebooks/data_table.ipynb>data table notebook</a>'\n",
              "            + ' to learn more about interactive tables.';\n",
              "          element.innerHTML = '';\n",
              "          dataTable['output_type'] = 'display_data';\n",
              "          await google.colab.output.renderOutput(dataTable, element);\n",
              "          const docLink = document.createElement('div');\n",
              "          docLink.innerHTML = docLinkHtml;\n",
              "          element.appendChild(docLink);\n",
              "        }\n",
              "      </script>\n",
              "    </div>\n",
              "  </div>\n",
              "  "
            ],
            "text/plain": [
              "featureID          1        2         3         4         5         6      \\\n",
              "DBbook_ItemID                                                               \n",
              "1              10.004689  4.77587  1.156066  1.205947  1.204867  1.158676   \n",
              "2              10.004689  4.77587  1.156066  1.205947  1.204867  1.158676   \n",
              "3               0.000000  0.00000  1.156066  1.205947  1.204867  1.158676   \n",
              "5               0.000000  0.00000  1.156066  1.205947  1.204867  1.158676   \n",
              "7               0.000000  0.00000  1.156066  1.205947  1.204867  1.158676   \n",
              "...                  ...      ...       ...       ...       ...       ...   \n",
              "8164            0.000000  0.00000  1.156066  1.205947  1.204867  1.158676   \n",
              "8166            0.000000  0.00000  0.000000  0.000000  0.000000  0.000000   \n",
              "8167            0.000000  0.00000  0.000000  0.000000  0.000000  0.000000   \n",
              "8168            0.000000  0.00000  1.156066  1.205947  1.204867  1.158676   \n",
              "8169            0.000000  0.00000  1.156066  1.205947  1.204867  1.158676   \n",
              "\n",
              "featureID         7         8         9         10     ...  13992  13993  \\\n",
              "DBbook_ItemID                                          ...                 \n",
              "1              1.158676  6.808291  7.035062  9.589651  ...    0.0    0.0   \n",
              "2              1.158676  0.000000  7.035062  9.589651  ...    0.0    0.0   \n",
              "3              1.158676  6.808291  0.000000  0.000000  ...    0.0    0.0   \n",
              "5              1.158676  0.000000  0.000000  0.000000  ...    0.0    0.0   \n",
              "7              1.158676  0.000000  0.000000  0.000000  ...    0.0    0.0   \n",
              "...                 ...       ...       ...       ...  ...    ...    ...   \n",
              "8164           1.158676  0.000000  0.000000  0.000000  ...    0.0    0.0   \n",
              "8166           0.000000  0.000000  0.000000  0.000000  ...    0.0    0.0   \n",
              "8167           0.000000  0.000000  0.000000  0.000000  ...    0.0    0.0   \n",
              "8168           1.158676  0.000000  0.000000  0.000000  ...    0.0    0.0   \n",
              "8169           1.158676  0.000000  0.000000  0.000000  ...    0.0    0.0   \n",
              "\n",
              "featureID      13994      13995      13996  13997  13998  13999  14000  14001  \n",
              "DBbook_ItemID                                                                  \n",
              "1                0.0   0.000000   0.000000    0.0    0.0    0.0    0.0    0.0  \n",
              "2                0.0   0.000000   0.000000    0.0    0.0    0.0    0.0    0.0  \n",
              "3                0.0   0.000000   0.000000    0.0    0.0    0.0    0.0    0.0  \n",
              "5                0.0   0.000000   0.000000    0.0    0.0    0.0    0.0    0.0  \n",
              "7                0.0   0.000000   0.000000    0.0    0.0    0.0    0.0    0.0  \n",
              "...              ...        ...        ...    ...    ...    ...    ...    ...  \n",
              "8164             0.0   0.000000   0.000000    0.0    0.0    0.0    0.0    0.0  \n",
              "8166             0.0   0.000000   0.000000    0.0    0.0    0.0    0.0    0.0  \n",
              "8167             0.0   0.000000   0.000000    0.0    0.0    0.0    0.0    0.0  \n",
              "8168             0.0   0.000000   0.000000    0.0    0.0    0.0    0.0    0.0  \n",
              "8169             0.0  12.589651  12.589651    0.0    0.0    0.0    0.0    0.0  \n",
              "\n",
              "[6164 rows x 12246 columns]"
            ]
          },
          "metadata": {},
          "execution_count": 15
        }
      ]
    },
    {
      "cell_type": "markdown",
      "metadata": {
        "id": "Zys6_IxogUAR"
      },
      "source": [
        "En el siguiente mapa de calor se observa el tf_idf de los items representados en las 300 características con mayor frecuencia."
      ]
    },
    {
      "cell_type": "code",
      "metadata": {
        "id": "gEVlmVrqh-PJ",
        "colab": {
          "base_uri": "https://localhost:8080/",
          "height": 519
        },
        "outputId": "2bef5a29-c6c9-4cd8-bf14-3aefaa273733"
      },
      "source": [
        "df_matriz_tf_idf.loc[:,series_suma.nlargest(300).index]"
      ],
      "execution_count": null,
      "outputs": [
        {
          "output_type": "execute_result",
          "data": {
            "text/html": [
              "\n",
              "  <div id=\"df-2c01c950-f57b-43cd-bb94-800b07166d48\">\n",
              "    <div class=\"colab-df-container\">\n",
              "      <div>\n",
              "<style scoped>\n",
              "    .dataframe tbody tr th:only-of-type {\n",
              "        vertical-align: middle;\n",
              "    }\n",
              "\n",
              "    .dataframe tbody tr th {\n",
              "        vertical-align: top;\n",
              "    }\n",
              "\n",
              "    .dataframe thead th {\n",
              "        text-align: right;\n",
              "    }\n",
              "</style>\n",
              "<table border=\"1\" class=\"dataframe\">\n",
              "  <thead>\n",
              "    <tr style=\"text-align: right;\">\n",
              "      <th>featureID</th>\n",
              "      <th>13</th>\n",
              "      <th>3</th>\n",
              "      <th>6</th>\n",
              "      <th>7</th>\n",
              "      <th>5</th>\n",
              "      <th>4</th>\n",
              "      <th>11</th>\n",
              "      <th>65</th>\n",
              "      <th>59</th>\n",
              "      <th>60</th>\n",
              "      <th>...</th>\n",
              "      <th>1637</th>\n",
              "      <th>2214</th>\n",
              "      <th>2227</th>\n",
              "      <th>2228</th>\n",
              "      <th>2230</th>\n",
              "      <th>2702</th>\n",
              "      <th>447</th>\n",
              "      <th>496</th>\n",
              "      <th>1299</th>\n",
              "      <th>1507</th>\n",
              "    </tr>\n",
              "    <tr>\n",
              "      <th>DBbook_ItemID</th>\n",
              "      <th></th>\n",
              "      <th></th>\n",
              "      <th></th>\n",
              "      <th></th>\n",
              "      <th></th>\n",
              "      <th></th>\n",
              "      <th></th>\n",
              "      <th></th>\n",
              "      <th></th>\n",
              "      <th></th>\n",
              "      <th></th>\n",
              "      <th></th>\n",
              "      <th></th>\n",
              "      <th></th>\n",
              "      <th></th>\n",
              "      <th></th>\n",
              "      <th></th>\n",
              "      <th></th>\n",
              "      <th></th>\n",
              "      <th></th>\n",
              "      <th></th>\n",
              "    </tr>\n",
              "  </thead>\n",
              "  <tbody>\n",
              "    <tr>\n",
              "      <th>1</th>\n",
              "      <td>0.996727</td>\n",
              "      <td>1.156066</td>\n",
              "      <td>1.158676</td>\n",
              "      <td>1.158676</td>\n",
              "      <td>1.204867</td>\n",
              "      <td>1.205947</td>\n",
              "      <td>1.227159</td>\n",
              "      <td>0.000000</td>\n",
              "      <td>0.000000</td>\n",
              "      <td>0.000000</td>\n",
              "      <td>...</td>\n",
              "      <td>0.000000</td>\n",
              "      <td>0.0</td>\n",
              "      <td>0.0</td>\n",
              "      <td>0.0</td>\n",
              "      <td>0.0</td>\n",
              "      <td>0.0</td>\n",
              "      <td>0.0</td>\n",
              "      <td>0.0</td>\n",
              "      <td>0.0</td>\n",
              "      <td>0.0</td>\n",
              "    </tr>\n",
              "    <tr>\n",
              "      <th>2</th>\n",
              "      <td>0.996727</td>\n",
              "      <td>1.156066</td>\n",
              "      <td>1.158676</td>\n",
              "      <td>1.158676</td>\n",
              "      <td>1.204867</td>\n",
              "      <td>1.205947</td>\n",
              "      <td>1.227159</td>\n",
              "      <td>0.000000</td>\n",
              "      <td>0.000000</td>\n",
              "      <td>0.000000</td>\n",
              "      <td>...</td>\n",
              "      <td>0.000000</td>\n",
              "      <td>0.0</td>\n",
              "      <td>0.0</td>\n",
              "      <td>0.0</td>\n",
              "      <td>0.0</td>\n",
              "      <td>0.0</td>\n",
              "      <td>0.0</td>\n",
              "      <td>0.0</td>\n",
              "      <td>0.0</td>\n",
              "      <td>0.0</td>\n",
              "    </tr>\n",
              "    <tr>\n",
              "      <th>3</th>\n",
              "      <td>0.996727</td>\n",
              "      <td>1.156066</td>\n",
              "      <td>1.158676</td>\n",
              "      <td>1.158676</td>\n",
              "      <td>1.204867</td>\n",
              "      <td>1.205947</td>\n",
              "      <td>1.227159</td>\n",
              "      <td>0.000000</td>\n",
              "      <td>0.000000</td>\n",
              "      <td>0.000000</td>\n",
              "      <td>...</td>\n",
              "      <td>0.000000</td>\n",
              "      <td>0.0</td>\n",
              "      <td>0.0</td>\n",
              "      <td>0.0</td>\n",
              "      <td>0.0</td>\n",
              "      <td>0.0</td>\n",
              "      <td>0.0</td>\n",
              "      <td>0.0</td>\n",
              "      <td>0.0</td>\n",
              "      <td>0.0</td>\n",
              "    </tr>\n",
              "    <tr>\n",
              "      <th>5</th>\n",
              "      <td>0.996727</td>\n",
              "      <td>1.156066</td>\n",
              "      <td>1.158676</td>\n",
              "      <td>1.158676</td>\n",
              "      <td>1.204867</td>\n",
              "      <td>1.205947</td>\n",
              "      <td>1.227159</td>\n",
              "      <td>0.000000</td>\n",
              "      <td>0.000000</td>\n",
              "      <td>0.000000</td>\n",
              "      <td>...</td>\n",
              "      <td>0.000000</td>\n",
              "      <td>0.0</td>\n",
              "      <td>0.0</td>\n",
              "      <td>0.0</td>\n",
              "      <td>0.0</td>\n",
              "      <td>0.0</td>\n",
              "      <td>0.0</td>\n",
              "      <td>0.0</td>\n",
              "      <td>0.0</td>\n",
              "      <td>0.0</td>\n",
              "    </tr>\n",
              "    <tr>\n",
              "      <th>7</th>\n",
              "      <td>0.996727</td>\n",
              "      <td>1.156066</td>\n",
              "      <td>1.158676</td>\n",
              "      <td>1.158676</td>\n",
              "      <td>1.204867</td>\n",
              "      <td>1.205947</td>\n",
              "      <td>1.227159</td>\n",
              "      <td>0.000000</td>\n",
              "      <td>0.000000</td>\n",
              "      <td>0.000000</td>\n",
              "      <td>...</td>\n",
              "      <td>0.000000</td>\n",
              "      <td>0.0</td>\n",
              "      <td>0.0</td>\n",
              "      <td>0.0</td>\n",
              "      <td>0.0</td>\n",
              "      <td>0.0</td>\n",
              "      <td>0.0</td>\n",
              "      <td>0.0</td>\n",
              "      <td>0.0</td>\n",
              "      <td>0.0</td>\n",
              "    </tr>\n",
              "    <tr>\n",
              "      <th>...</th>\n",
              "      <td>...</td>\n",
              "      <td>...</td>\n",
              "      <td>...</td>\n",
              "      <td>...</td>\n",
              "      <td>...</td>\n",
              "      <td>...</td>\n",
              "      <td>...</td>\n",
              "      <td>...</td>\n",
              "      <td>...</td>\n",
              "      <td>...</td>\n",
              "      <td>...</td>\n",
              "      <td>...</td>\n",
              "      <td>...</td>\n",
              "      <td>...</td>\n",
              "      <td>...</td>\n",
              "      <td>...</td>\n",
              "      <td>...</td>\n",
              "      <td>...</td>\n",
              "      <td>...</td>\n",
              "      <td>...</td>\n",
              "      <td>...</td>\n",
              "    </tr>\n",
              "    <tr>\n",
              "      <th>8164</th>\n",
              "      <td>0.996727</td>\n",
              "      <td>1.156066</td>\n",
              "      <td>1.158676</td>\n",
              "      <td>1.158676</td>\n",
              "      <td>1.204867</td>\n",
              "      <td>1.205947</td>\n",
              "      <td>1.227159</td>\n",
              "      <td>0.000000</td>\n",
              "      <td>0.000000</td>\n",
              "      <td>0.000000</td>\n",
              "      <td>...</td>\n",
              "      <td>7.589651</td>\n",
              "      <td>0.0</td>\n",
              "      <td>0.0</td>\n",
              "      <td>0.0</td>\n",
              "      <td>0.0</td>\n",
              "      <td>0.0</td>\n",
              "      <td>0.0</td>\n",
              "      <td>0.0</td>\n",
              "      <td>0.0</td>\n",
              "      <td>0.0</td>\n",
              "    </tr>\n",
              "    <tr>\n",
              "      <th>8166</th>\n",
              "      <td>0.000000</td>\n",
              "      <td>0.000000</td>\n",
              "      <td>0.000000</td>\n",
              "      <td>0.000000</td>\n",
              "      <td>0.000000</td>\n",
              "      <td>0.000000</td>\n",
              "      <td>0.000000</td>\n",
              "      <td>1.325209</td>\n",
              "      <td>1.325795</td>\n",
              "      <td>1.325795</td>\n",
              "      <td>...</td>\n",
              "      <td>0.000000</td>\n",
              "      <td>0.0</td>\n",
              "      <td>0.0</td>\n",
              "      <td>0.0</td>\n",
              "      <td>0.0</td>\n",
              "      <td>0.0</td>\n",
              "      <td>0.0</td>\n",
              "      <td>0.0</td>\n",
              "      <td>0.0</td>\n",
              "      <td>0.0</td>\n",
              "    </tr>\n",
              "    <tr>\n",
              "      <th>8167</th>\n",
              "      <td>0.000000</td>\n",
              "      <td>0.000000</td>\n",
              "      <td>0.000000</td>\n",
              "      <td>0.000000</td>\n",
              "      <td>0.000000</td>\n",
              "      <td>0.000000</td>\n",
              "      <td>0.000000</td>\n",
              "      <td>1.325209</td>\n",
              "      <td>1.325795</td>\n",
              "      <td>1.325795</td>\n",
              "      <td>...</td>\n",
              "      <td>0.000000</td>\n",
              "      <td>0.0</td>\n",
              "      <td>0.0</td>\n",
              "      <td>0.0</td>\n",
              "      <td>0.0</td>\n",
              "      <td>0.0</td>\n",
              "      <td>0.0</td>\n",
              "      <td>0.0</td>\n",
              "      <td>0.0</td>\n",
              "      <td>0.0</td>\n",
              "    </tr>\n",
              "    <tr>\n",
              "      <th>8168</th>\n",
              "      <td>0.996727</td>\n",
              "      <td>1.156066</td>\n",
              "      <td>1.158676</td>\n",
              "      <td>1.158676</td>\n",
              "      <td>1.204867</td>\n",
              "      <td>1.205947</td>\n",
              "      <td>1.227159</td>\n",
              "      <td>0.000000</td>\n",
              "      <td>0.000000</td>\n",
              "      <td>0.000000</td>\n",
              "      <td>...</td>\n",
              "      <td>0.000000</td>\n",
              "      <td>0.0</td>\n",
              "      <td>0.0</td>\n",
              "      <td>0.0</td>\n",
              "      <td>0.0</td>\n",
              "      <td>0.0</td>\n",
              "      <td>0.0</td>\n",
              "      <td>0.0</td>\n",
              "      <td>0.0</td>\n",
              "      <td>0.0</td>\n",
              "    </tr>\n",
              "    <tr>\n",
              "      <th>8169</th>\n",
              "      <td>0.996727</td>\n",
              "      <td>1.156066</td>\n",
              "      <td>1.158676</td>\n",
              "      <td>1.158676</td>\n",
              "      <td>1.204867</td>\n",
              "      <td>1.205947</td>\n",
              "      <td>1.227159</td>\n",
              "      <td>0.000000</td>\n",
              "      <td>0.000000</td>\n",
              "      <td>0.000000</td>\n",
              "      <td>...</td>\n",
              "      <td>0.000000</td>\n",
              "      <td>0.0</td>\n",
              "      <td>0.0</td>\n",
              "      <td>0.0</td>\n",
              "      <td>0.0</td>\n",
              "      <td>0.0</td>\n",
              "      <td>0.0</td>\n",
              "      <td>0.0</td>\n",
              "      <td>0.0</td>\n",
              "      <td>0.0</td>\n",
              "    </tr>\n",
              "  </tbody>\n",
              "</table>\n",
              "<p>6164 rows × 300 columns</p>\n",
              "</div>\n",
              "      <button class=\"colab-df-convert\" onclick=\"convertToInteractive('df-2c01c950-f57b-43cd-bb94-800b07166d48')\"\n",
              "              title=\"Convert this dataframe to an interactive table.\"\n",
              "              style=\"display:none;\">\n",
              "        \n",
              "  <svg xmlns=\"http://www.w3.org/2000/svg\" height=\"24px\"viewBox=\"0 0 24 24\"\n",
              "       width=\"24px\">\n",
              "    <path d=\"M0 0h24v24H0V0z\" fill=\"none\"/>\n",
              "    <path d=\"M18.56 5.44l.94 2.06.94-2.06 2.06-.94-2.06-.94-.94-2.06-.94 2.06-2.06.94zm-11 1L8.5 8.5l.94-2.06 2.06-.94-2.06-.94L8.5 2.5l-.94 2.06-2.06.94zm10 10l.94 2.06.94-2.06 2.06-.94-2.06-.94-.94-2.06-.94 2.06-2.06.94z\"/><path d=\"M17.41 7.96l-1.37-1.37c-.4-.4-.92-.59-1.43-.59-.52 0-1.04.2-1.43.59L10.3 9.45l-7.72 7.72c-.78.78-.78 2.05 0 2.83L4 21.41c.39.39.9.59 1.41.59.51 0 1.02-.2 1.41-.59l7.78-7.78 2.81-2.81c.8-.78.8-2.07 0-2.86zM5.41 20L4 18.59l7.72-7.72 1.47 1.35L5.41 20z\"/>\n",
              "  </svg>\n",
              "      </button>\n",
              "      \n",
              "  <style>\n",
              "    .colab-df-container {\n",
              "      display:flex;\n",
              "      flex-wrap:wrap;\n",
              "      gap: 12px;\n",
              "    }\n",
              "\n",
              "    .colab-df-convert {\n",
              "      background-color: #E8F0FE;\n",
              "      border: none;\n",
              "      border-radius: 50%;\n",
              "      cursor: pointer;\n",
              "      display: none;\n",
              "      fill: #1967D2;\n",
              "      height: 32px;\n",
              "      padding: 0 0 0 0;\n",
              "      width: 32px;\n",
              "    }\n",
              "\n",
              "    .colab-df-convert:hover {\n",
              "      background-color: #E2EBFA;\n",
              "      box-shadow: 0px 1px 2px rgba(60, 64, 67, 0.3), 0px 1px 3px 1px rgba(60, 64, 67, 0.15);\n",
              "      fill: #174EA6;\n",
              "    }\n",
              "\n",
              "    [theme=dark] .colab-df-convert {\n",
              "      background-color: #3B4455;\n",
              "      fill: #D2E3FC;\n",
              "    }\n",
              "\n",
              "    [theme=dark] .colab-df-convert:hover {\n",
              "      background-color: #434B5C;\n",
              "      box-shadow: 0px 1px 3px 1px rgba(0, 0, 0, 0.15);\n",
              "      filter: drop-shadow(0px 1px 2px rgba(0, 0, 0, 0.3));\n",
              "      fill: #FFFFFF;\n",
              "    }\n",
              "  </style>\n",
              "\n",
              "      <script>\n",
              "        const buttonEl =\n",
              "          document.querySelector('#df-2c01c950-f57b-43cd-bb94-800b07166d48 button.colab-df-convert');\n",
              "        buttonEl.style.display =\n",
              "          google.colab.kernel.accessAllowed ? 'block' : 'none';\n",
              "\n",
              "        async function convertToInteractive(key) {\n",
              "          const element = document.querySelector('#df-2c01c950-f57b-43cd-bb94-800b07166d48');\n",
              "          const dataTable =\n",
              "            await google.colab.kernel.invokeFunction('convertToInteractive',\n",
              "                                                     [key], {});\n",
              "          if (!dataTable) return;\n",
              "\n",
              "          const docLinkHtml = 'Like what you see? Visit the ' +\n",
              "            '<a target=\"_blank\" href=https://colab.research.google.com/notebooks/data_table.ipynb>data table notebook</a>'\n",
              "            + ' to learn more about interactive tables.';\n",
              "          element.innerHTML = '';\n",
              "          dataTable['output_type'] = 'display_data';\n",
              "          await google.colab.output.renderOutput(dataTable, element);\n",
              "          const docLink = document.createElement('div');\n",
              "          docLink.innerHTML = docLinkHtml;\n",
              "          element.appendChild(docLink);\n",
              "        }\n",
              "      </script>\n",
              "    </div>\n",
              "  </div>\n",
              "  "
            ],
            "text/plain": [
              "featureID          13        3         6         7         5         4     \\\n",
              "DBbook_ItemID                                                               \n",
              "1              0.996727  1.156066  1.158676  1.158676  1.204867  1.205947   \n",
              "2              0.996727  1.156066  1.158676  1.158676  1.204867  1.205947   \n",
              "3              0.996727  1.156066  1.158676  1.158676  1.204867  1.205947   \n",
              "5              0.996727  1.156066  1.158676  1.158676  1.204867  1.205947   \n",
              "7              0.996727  1.156066  1.158676  1.158676  1.204867  1.205947   \n",
              "...                 ...       ...       ...       ...       ...       ...   \n",
              "8164           0.996727  1.156066  1.158676  1.158676  1.204867  1.205947   \n",
              "8166           0.000000  0.000000  0.000000  0.000000  0.000000  0.000000   \n",
              "8167           0.000000  0.000000  0.000000  0.000000  0.000000  0.000000   \n",
              "8168           0.996727  1.156066  1.158676  1.158676  1.204867  1.205947   \n",
              "8169           0.996727  1.156066  1.158676  1.158676  1.204867  1.205947   \n",
              "\n",
              "featureID          11        65        59        60    ...      1637  2214  \\\n",
              "DBbook_ItemID                                          ...                   \n",
              "1              1.227159  0.000000  0.000000  0.000000  ...  0.000000   0.0   \n",
              "2              1.227159  0.000000  0.000000  0.000000  ...  0.000000   0.0   \n",
              "3              1.227159  0.000000  0.000000  0.000000  ...  0.000000   0.0   \n",
              "5              1.227159  0.000000  0.000000  0.000000  ...  0.000000   0.0   \n",
              "7              1.227159  0.000000  0.000000  0.000000  ...  0.000000   0.0   \n",
              "...                 ...       ...       ...       ...  ...       ...   ...   \n",
              "8164           1.227159  0.000000  0.000000  0.000000  ...  7.589651   0.0   \n",
              "8166           0.000000  1.325209  1.325795  1.325795  ...  0.000000   0.0   \n",
              "8167           0.000000  1.325209  1.325795  1.325795  ...  0.000000   0.0   \n",
              "8168           1.227159  0.000000  0.000000  0.000000  ...  0.000000   0.0   \n",
              "8169           1.227159  0.000000  0.000000  0.000000  ...  0.000000   0.0   \n",
              "\n",
              "featureID      2227  2228  2230  2702  447   496   1299  1507  \n",
              "DBbook_ItemID                                                  \n",
              "1               0.0   0.0   0.0   0.0   0.0   0.0   0.0   0.0  \n",
              "2               0.0   0.0   0.0   0.0   0.0   0.0   0.0   0.0  \n",
              "3               0.0   0.0   0.0   0.0   0.0   0.0   0.0   0.0  \n",
              "5               0.0   0.0   0.0   0.0   0.0   0.0   0.0   0.0  \n",
              "7               0.0   0.0   0.0   0.0   0.0   0.0   0.0   0.0  \n",
              "...             ...   ...   ...   ...   ...   ...   ...   ...  \n",
              "8164            0.0   0.0   0.0   0.0   0.0   0.0   0.0   0.0  \n",
              "8166            0.0   0.0   0.0   0.0   0.0   0.0   0.0   0.0  \n",
              "8167            0.0   0.0   0.0   0.0   0.0   0.0   0.0   0.0  \n",
              "8168            0.0   0.0   0.0   0.0   0.0   0.0   0.0   0.0  \n",
              "8169            0.0   0.0   0.0   0.0   0.0   0.0   0.0   0.0  \n",
              "\n",
              "[6164 rows x 300 columns]"
            ]
          },
          "metadata": {},
          "execution_count": 16
        }
      ]
    },
    {
      "cell_type": "code",
      "metadata": {
        "id": "YURPa2NuUsar",
        "colab": {
          "base_uri": "https://localhost:8080/",
          "height": 915
        },
        "outputId": "22571d19-50e7-4e78-ae57-49a93361c43a"
      },
      "source": [
        "plt.rcParams[\"figure.figsize\"] = (15,15)\n",
        "sns.heatmap(df_matriz_tf_idf.loc[:,series_suma.nlargest(300).index],cmap=\"Blues\", vmin=0)"
      ],
      "execution_count": null,
      "outputs": [
        {
          "output_type": "execute_result",
          "data": {
            "text/plain": [
              "<matplotlib.axes._subplots.AxesSubplot at 0x7fe261288610>"
            ]
          },
          "metadata": {},
          "execution_count": 17
        },
        {
          "output_type": "display_data",
          "data": {
            "image/png": "[encoded data removed]",
            "text/plain": [
              "<Figure size 1080x1080 with 2 Axes>"
            ]
          },
          "metadata": {
            "needs_background": "light"
          }
        }
      ]
    },
    {
      "cell_type": "markdown",
      "metadata": {
        "id": "sQnyh7YmlhQA"
      },
      "source": [
        "**¿Qué puede interpretar sobre la figura anterior? \n",
        "Encuentre los nombres de las características más frecuentes**"
      ]
    },
    {
      "cell_type": "code",
      "metadata": {
        "id": "HESUWI7Wn3Dw",
        "colab": {
          "base_uri": "https://localhost:8080/",
          "height": 53
        },
        "outputId": "5e8975a1-1b77-45de-da7a-120c7a477198"
      },
      "source": [
        "\"\"\"Los atributos con mayor relevancia y frecuencia se ubican hacia la izquierda del gráfico, en contraste \n",
        "con las características de poca relevancia que se ubican en la derecha (por ejemplo novelas americas siglo XIX)\n",
        "\n",
        "Las características con mayor frecuencia son: \"\"\""
      ],
      "execution_count": null,
      "outputs": [
        {
          "output_type": "execute_result",
          "data": {
            "application/vnd.google.colaboratory.intrinsic+json": {
              "type": "string"
            },
            "text/plain": [
              "'Los atributos con mayor relevancia y frecuencia se ubican hacia la izquierda del gráfico, en contraste \\ncon las características de poca relevancia que se ubican en la derecha (por ejemplo novelas americas siglo XIX)\\n\\nLas características con mayor frecuencia son '"
            ]
          },
          "metadata": {},
          "execution_count": 51
        }
      ]
    },
    {
      "cell_type": "code",
      "metadata": {
        "id": "bIx0A7I4n3Q-",
        "colab": {
          "base_uri": "https://localhost:8080/",
          "height": 183
        },
        "outputId": "478882f7-a38a-4b78-b6cd-aadb33a23a2d"
      },
      "source": [
        "\n",
        "df_conceptos[df_conceptos['featureID'].isin(list(df_matriz_tf_idf.loc[:,series_suma.nlargest(300).index].sum().head(20).index))]"
      ],
      "execution_count": null,
      "outputs": [
        {
          "output_type": "error",
          "ename": "NameError",
          "evalue": "ignored",
          "traceback": [
            "\u001b[0;31m---------------------------------------------------------------------------\u001b[0m",
            "\u001b[0;31mNameError\u001b[0m                                 Traceback (most recent call last)",
            "\u001b[0;32m<ipython-input-2-4281c4f9e736>\u001b[0m in \u001b[0;36m<module>\u001b[0;34m()\u001b[0m\n\u001b[1;32m      1\u001b[0m \u001b[0;34m\u001b[0m\u001b[0m\n\u001b[0;32m----> 2\u001b[0;31m \u001b[0mdf_conceptos\u001b[0m\u001b[0;34m[\u001b[0m\u001b[0mdf_conceptos\u001b[0m\u001b[0;34m[\u001b[0m\u001b[0;34m'featureID'\u001b[0m\u001b[0;34m]\u001b[0m\u001b[0;34m.\u001b[0m\u001b[0misin\u001b[0m\u001b[0;34m(\u001b[0m\u001b[0mlist\u001b[0m\u001b[0;34m(\u001b[0m\u001b[0mdf_matriz_tf_idf\u001b[0m\u001b[0;34m.\u001b[0m\u001b[0mloc\u001b[0m\u001b[0;34m[\u001b[0m\u001b[0;34m:\u001b[0m\u001b[0;34m,\u001b[0m\u001b[0mseries_suma\u001b[0m\u001b[0;34m.\u001b[0m\u001b[0mnlargest\u001b[0m\u001b[0;34m(\u001b[0m\u001b[0;36m300\u001b[0m\u001b[0;34m)\u001b[0m\u001b[0;34m.\u001b[0m\u001b[0mindex\u001b[0m\u001b[0;34m]\u001b[0m\u001b[0;34m.\u001b[0m\u001b[0msum\u001b[0m\u001b[0;34m(\u001b[0m\u001b[0;34m)\u001b[0m\u001b[0;34m.\u001b[0m\u001b[0mhead\u001b[0m\u001b[0;34m(\u001b[0m\u001b[0;36m20\u001b[0m\u001b[0;34m)\u001b[0m\u001b[0;34m.\u001b[0m\u001b[0mindex\u001b[0m\u001b[0;34m)\u001b[0m\u001b[0;34m)\u001b[0m\u001b[0;34m]\u001b[0m\u001b[0;34m\u001b[0m\u001b[0;34m\u001b[0m\u001b[0m\n\u001b[0m",
            "\u001b[0;31mNameError\u001b[0m: name 'df_conceptos' is not defined"
          ]
        }
      ]
    },
    {
      "cell_type": "markdown",
      "metadata": {
        "id": "ljppu_vUm_S2"
      },
      "source": [
        "# Selección de características\n",
        "\n",
        "Una vez realizado el proceso de indexamiento, se puede realizar el proceso de selección de características. \n",
        "\n",
        "En este momento contamos con más de 12 mil conceptos. ¿Con cuántos vale la pena crear los modelos de filtrado?\n",
        "\n",
        "El paso más simple es filtrar las características con baja frecuencia dentro del dataset"
      ]
    },
    {
      "cell_type": "code",
      "metadata": {
        "id": "v5aqEuxwYKRZ",
        "colab": {
          "base_uri": "https://localhost:8080/"
        },
        "outputId": "9e2178fa-92a9-44a5-8ecd-7c51c6478c6d"
      },
      "source": [
        "series_suma.describe()"
      ],
      "execution_count": null,
      "outputs": [
        {
          "output_type": "execute_result",
          "data": {
            "text/plain": [
              "count    12246.000000\n",
              "mean         8.394823\n",
              "std         95.183540\n",
              "min          1.000000\n",
              "25%          1.000000\n",
              "50%          1.000000\n",
              "75%          3.000000\n",
              "max       3089.000000\n",
              "dtype: float64"
            ]
          },
          "metadata": {},
          "execution_count": 19
        }
      ]
    },
    {
      "cell_type": "markdown",
      "metadata": {
        "id": "dzO-nEUjp8EX"
      },
      "source": [
        "**¿Qué puede decir sobre la distribución de frecuencia de las características en los items? ¿Vale la pena tener todas las características que tenemos actualmente?**\n",
        "\n",
        ".\n",
        "**Retire de la matriz df_matrix_tf_idf las columnas que representan a los items que tienen menos de 3 items asociados**"
      ]
    },
    {
      "cell_type": "markdown",
      "source": [
        "La distribución presenta un fenómeno de cola larga, el 50% de los atributos se relacionan con un único libro / ítem. Mientras que el 75% de los atributos tienen 3 o menos libros asociados. Por lo que pocos atributos se relacionan con muchos libros. "
      ],
      "metadata": {
        "id": "BpfFSDnaroDn"
      }
    },
    {
      "cell_type": "code",
      "metadata": {
        "id": "_HrDjFGNp6tf",
        "colab": {
          "base_uri": "https://localhost:8080/"
        },
        "outputId": "d1415715-8fe2-47c8-c707-6b9b9575b99e"
      },
      "source": [
        "# Se filtra la serie por aquellos que tienen al menos 3 \n",
        "series_suma[series_suma>=3]"
      ],
      "execution_count": null,
      "outputs": [
        {
          "output_type": "execute_result",
          "data": {
            "text/plain": [
              "featureID\n",
              "1           6\n",
              "2         225\n",
              "3        2766\n",
              "4        2672\n",
              "5        2674\n",
              "         ... \n",
              "13204       5\n",
              "13549       3\n",
              "13627       3\n",
              "13920       5\n",
              "13922       5\n",
              "Length: 3894, dtype: int64"
            ]
          },
          "metadata": {},
          "execution_count": 20
        }
      ]
    },
    {
      "cell_type": "code",
      "metadata": {
        "id": "N_96kKMLowAz",
        "colab": {
          "base_uri": "https://localhost:8080/",
          "height": 328
        },
        "outputId": "6f1021c5-95e6-4175-cc1b-f2dc8f5f7b68"
      },
      "source": [
        "\n",
        "df_matriz_tf_idf= df_matriz_tf_idf[df_matriz_tf_idf.columns.isin(list(series_suma[series_suma>=3].index))]"
      ],
      "execution_count": null,
      "outputs": [
        {
          "output_type": "error",
          "ename": "ValueError",
          "evalue": "ignored",
          "traceback": [
            "\u001b[0;31m---------------------------------------------------------------------------\u001b[0m",
            "\u001b[0;31mValueError\u001b[0m                                Traceback (most recent call last)",
            "\u001b[0;32m<ipython-input-21-4223562906fb>\u001b[0m in \u001b[0;36m<module>\u001b[0;34m()\u001b[0m\n\u001b[1;32m      1\u001b[0m \u001b[0;34m\u001b[0m\u001b[0m\n\u001b[0;32m----> 2\u001b[0;31m \u001b[0mdf_matriz_tf_idf\u001b[0m\u001b[0;34m=\u001b[0m \u001b[0mdf_matriz_tf_idf\u001b[0m\u001b[0;34m[\u001b[0m\u001b[0mdf_matriz_tf_idf\u001b[0m\u001b[0;34m.\u001b[0m\u001b[0mcolumns\u001b[0m\u001b[0;34m.\u001b[0m\u001b[0misin\u001b[0m\u001b[0;34m(\u001b[0m\u001b[0mlist\u001b[0m\u001b[0;34m(\u001b[0m\u001b[0mseries_suma\u001b[0m\u001b[0;34m[\u001b[0m\u001b[0mseries_suma\u001b[0m\u001b[0;34m>=\u001b[0m\u001b[0;36m3\u001b[0m\u001b[0;34m]\u001b[0m\u001b[0;34m.\u001b[0m\u001b[0mindex\u001b[0m\u001b[0;34m)\u001b[0m\u001b[0;34m)\u001b[0m\u001b[0;34m]\u001b[0m\u001b[0;34m\u001b[0m\u001b[0;34m\u001b[0m\u001b[0m\n\u001b[0m",
            "\u001b[0;32m/usr/local/lib/python3.7/dist-packages/pandas/core/frame.py\u001b[0m in \u001b[0;36m__getitem__\u001b[0;34m(self, key)\u001b[0m\n\u001b[1;32m   3447\u001b[0m         \u001b[0;31m# Do we have a (boolean) 1d indexer?\u001b[0m\u001b[0;34m\u001b[0m\u001b[0;34m\u001b[0m\u001b[0;34m\u001b[0m\u001b[0m\n\u001b[1;32m   3448\u001b[0m         \u001b[0;32mif\u001b[0m \u001b[0mcom\u001b[0m\u001b[0;34m.\u001b[0m\u001b[0mis_bool_indexer\u001b[0m\u001b[0;34m(\u001b[0m\u001b[0mkey\u001b[0m\u001b[0;34m)\u001b[0m\u001b[0;34m:\u001b[0m\u001b[0;34m\u001b[0m\u001b[0;34m\u001b[0m\u001b[0m\n\u001b[0;32m-> 3449\u001b[0;31m             \u001b[0;32mreturn\u001b[0m \u001b[0mself\u001b[0m\u001b[0;34m.\u001b[0m\u001b[0m_getitem_bool_array\u001b[0m\u001b[0;34m(\u001b[0m\u001b[0mkey\u001b[0m\u001b[0;34m)\u001b[0m\u001b[0;34m\u001b[0m\u001b[0;34m\u001b[0m\u001b[0m\n\u001b[0m\u001b[1;32m   3450\u001b[0m \u001b[0;34m\u001b[0m\u001b[0m\n\u001b[1;32m   3451\u001b[0m         \u001b[0;31m# We are left with two options: a single key, and a collection of keys,\u001b[0m\u001b[0;34m\u001b[0m\u001b[0;34m\u001b[0m\u001b[0;34m\u001b[0m\u001b[0m\n",
            "\u001b[0;32m/usr/local/lib/python3.7/dist-packages/pandas/core/frame.py\u001b[0m in \u001b[0;36m_getitem_bool_array\u001b[0;34m(self, key)\u001b[0m\n\u001b[1;32m   3495\u001b[0m         \u001b[0;32melif\u001b[0m \u001b[0mlen\u001b[0m\u001b[0;34m(\u001b[0m\u001b[0mkey\u001b[0m\u001b[0;34m)\u001b[0m \u001b[0;34m!=\u001b[0m \u001b[0mlen\u001b[0m\u001b[0;34m(\u001b[0m\u001b[0mself\u001b[0m\u001b[0;34m.\u001b[0m\u001b[0mindex\u001b[0m\u001b[0;34m)\u001b[0m\u001b[0;34m:\u001b[0m\u001b[0;34m\u001b[0m\u001b[0;34m\u001b[0m\u001b[0m\n\u001b[1;32m   3496\u001b[0m             raise ValueError(\n\u001b[0;32m-> 3497\u001b[0;31m                 \u001b[0;34mf\"Item wrong length {len(key)} instead of {len(self.index)}.\"\u001b[0m\u001b[0;34m\u001b[0m\u001b[0;34m\u001b[0m\u001b[0m\n\u001b[0m\u001b[1;32m   3498\u001b[0m             )\n\u001b[1;32m   3499\u001b[0m \u001b[0;34m\u001b[0m\u001b[0m\n",
            "\u001b[0;31mValueError\u001b[0m: Item wrong length 12246 instead of 6164."
          ]
        }
      ]
    },
    {
      "cell_type": "code",
      "metadata": {
        "id": "c9oTh99Ksd2E"
      },
      "source": [
        "df_matriz_tf_idf"
      ],
      "execution_count": null,
      "outputs": []
    },
    {
      "cell_type": "markdown",
      "metadata": {
        "id": "PLrz5tmBsn3G"
      },
      "source": [
        "### Para las siguientes estrategias de selección de características, tenemos que aplicar técnicas supervisadas (que conocen la clase a predecir o lo que se quiere pronosticar), para esto tenemos que retomar nuestro dataset original de interacciones entre usuarios e items para asignar la etiqueta (le gustó/ no le gustó)"
      ]
    },
    {
      "cell_type": "code",
      "metadata": {
        "id": "L7LPIbBrskLy"
      },
      "source": [
        "# Recordemos como es el dataset original.\n",
        "df_dbbook.head(20)"
      ],
      "execution_count": null,
      "outputs": []
    },
    {
      "cell_type": "markdown",
      "metadata": {
        "id": "tYJ9ei1auLxc"
      },
      "source": [
        "Creemos un dataframe para crear un dataset de un sistema de recomendación como el visto en el laboratorio pasado (una única interacción de tipo usuario, item y rating)"
      ]
    },
    {
      "cell_type": "code",
      "metadata": {
        "id": "4ANyHv11thhi"
      },
      "source": [
        "df_all_interactions=df_dbbook[['DBbook_userID','DBbook_ItemID','rate']].drop_duplicates()\n",
        "df_all_interactions"
      ],
      "execution_count": null,
      "outputs": []
    },
    {
      "cell_type": "markdown",
      "metadata": {
        "id": "xsyZc8bXvMLN"
      },
      "source": [
        "Para asignar una clase, se binarizan los ratings. Una regla simple es calcular el rating promedio por persona. Todo lo que esté por debajo del promedio se clasifica como no le gusta, igual o por encima es si le gusta."
      ]
    },
    {
      "cell_type": "code",
      "metadata": {
        "id": "AYFPgnafuvOR"
      },
      "source": [
        "df_user_mean=df_all_interactions.groupby('DBbook_userID')['rate'].mean().reset_index()\n",
        "df_user_mean.columns=['DBbook_userID','mean']\n",
        "df_user_mean"
      ],
      "execution_count": null,
      "outputs": []
    },
    {
      "cell_type": "markdown",
      "metadata": {
        "id": "cUjFc_W2xWKE"
      },
      "source": [
        "**Realice un merge entre df_all_interactions y df_user_mean, asignando su resultado a df_all_interactions.\n",
        "Cree una nueva columna en el dataframe df_all_interactions llamada 'class' con True si el rating del usuario es mayor o igual a su promedio**\n",
        "\n",
        "[Documentación pandas merge](https://pandas.pydata.org/pandas-docs/stable/reference/api/pandas.DataFrame.merge.html)\n",
        "\n",
        "[Tutorial creación de columnas a partir del valor de otras](https://thispointer.com/python-pandas-how-to-add-new-columns-in-a-dataframe-using-or-dataframe-assign/)"
      ]
    },
    {
      "cell_type": "code",
      "metadata": {
        "id": "cFalHJy4wiZA"
      },
      "source": [
        "\n",
        "df_all_interactions= df_all_interactions.merge(df_user_mean, how = \"left\", on = \"DBbook_userID\")"
      ],
      "execution_count": null,
      "outputs": []
    },
    {
      "cell_type": "code",
      "metadata": {
        "id": "HpR5vLBsxTyS"
      },
      "source": [
        "\n",
        "df_all_interactions.loc[df_all_interactions['rate'] >= df_all_interactions['mean'], 'class' ] = True"
      ],
      "execution_count": null,
      "outputs": []
    },
    {
      "cell_type": "code",
      "metadata": {
        "id": "2jrhOGwJyJtw"
      },
      "source": [
        "df_all_interactions"
      ],
      "execution_count": null,
      "outputs": []
    },
    {
      "cell_type": "markdown",
      "metadata": {
        "id": "g0TaHQ5UzBAM"
      },
      "source": [
        "Por último, se procede a partir el dataset en entrenamiento y test. Se utiliza de la librería sklearn la función [train_test_split](https://scikit-learn.org/stable/modules/generated/sklearn.model_selection.train_test_split.html).\n",
        "\n",
        "Esta recibe como parámetro el dataset a partir, el porcentaje para test y un parámetro que indica la variable por la cual estratificar la partición, en este caso quisieramos que las interacciones en test sean de usuarios que vimos en train, por lo tanto se deja estratificado por usuario."
      ]
    },
    {
      "cell_type": "code",
      "metadata": {
        "id": "_qjRBWLK9ag3"
      },
      "source": [
        "help(train_test_split)"
      ],
      "execution_count": null,
      "outputs": []
    },
    {
      "cell_type": "code",
      "metadata": {
        "id": "A_rJHAXnyQOQ"
      },
      "source": [
        "#Para garantizar reproducibilidad en resultados\n",
        "seed = 10\n",
        "random.seed(seed)\n",
        "np.random.seed(seed)\n",
        "df_all_interactions_train, df_all_interactions_test =train_test_split(df_all_interactions, test_size=0.2, stratify=df_all_interactions['DBbook_userID'])"
      ],
      "execution_count": null,
      "outputs": []
    },
    {
      "cell_type": "code",
      "metadata": {
        "id": "Wm7RE_HE029u"
      },
      "source": [
        "df_all_interactions_train"
      ],
      "execution_count": null,
      "outputs": []
    },
    {
      "cell_type": "code",
      "metadata": {
        "id": "Gol-lLxk04KP"
      },
      "source": [
        "df_all_interactions_test"
      ],
      "execution_count": null,
      "outputs": []
    },
    {
      "cell_type": "code",
      "metadata": {
        "id": "IHo1of0bOsac"
      },
      "source": [
        "df_all_interactions_train.DBbook_userID.value_counts()"
      ],
      "execution_count": null,
      "outputs": []
    },
    {
      "cell_type": "code",
      "metadata": {
        "id": "OkwMwoKlOgkF"
      },
      "source": [
        "df_all_interactions_test.DBbook_userID.value_counts()"
      ],
      "execution_count": null,
      "outputs": []
    },
    {
      "cell_type": "code",
      "metadata": {
        "id": "5h4TZuz5PFkU"
      },
      "source": [
        "df_conteos_usuario_train_test=pd.concat([df_all_interactions_train.DBbook_userID.value_counts(),df_all_interactions_test.DBbook_userID.value_counts()],axis=1)\n",
        "df_conteos_usuario_train_test.columns=['train_count','test_count']"
      ],
      "execution_count": null,
      "outputs": []
    },
    {
      "cell_type": "code",
      "metadata": {
        "id": "W8xqph4MP99v"
      },
      "source": [
        "df_conteos_usuario_train_test"
      ],
      "execution_count": null,
      "outputs": []
    },
    {
      "cell_type": "code",
      "metadata": {
        "id": "xjlqB-nYQDtH"
      },
      "source": [
        "df_conteos_usuario_train_test.nlargest(500,'test_count')"
      ],
      "execution_count": null,
      "outputs": []
    },
    {
      "cell_type": "markdown",
      "metadata": {
        "id": "lrz-WIwc6VKM"
      },
      "source": [
        "**Chi-cuadrado**\n",
        "\n",
        "La selección de características mediante la prueba [chi-cuadrado](https://en.wikipedia.org/wiki/Chi-squared_test) nos dice si la diferencia observada entre las frecuencias de co-ocurrencia de dos variables es significativa. La idea es seleccionar características que más ayuden a discriminar la clase objetivo observando la frecuencia en la que ocurren juntas. \n",
        "\n",
        "La librería sklearn permite identificar la importancia de cada una de las variables utilizando el método [chi2](https://scikit-learn.org/stable/modules/generated/sklearn.feature_selection.chi2.html)"
      ]
    },
    {
      "cell_type": "code",
      "metadata": {
        "id": "Z2VftVGI06T-"
      },
      "source": [
        "help(chi2)"
      ],
      "execution_count": null,
      "outputs": []
    },
    {
      "cell_type": "markdown",
      "metadata": {
        "id": "GqPWbi5c-GH2"
      },
      "source": [
        "En filtrado por contenido, se arma un modelo por usuario. Por ahora vamos a escoger las características más importantes para el primer usuario del dataset de test"
      ]
    },
    {
      "cell_type": "code",
      "metadata": {
        "id": "_0cAoMuU9XJ7"
      },
      "source": [
        "#Debería dar 1124\n",
        "primer_usuario_id=df_all_interactions_test.iloc[0]['DBbook_userID']\n",
        "primer_usuario_id"
      ],
      "execution_count": null,
      "outputs": []
    },
    {
      "cell_type": "markdown",
      "metadata": {
        "id": "YhSkCDyc-f_A"
      },
      "source": [
        "Obtengamos los ids de los items con los que ha interactuado y su opinion"
      ]
    },
    {
      "cell_type": "code",
      "metadata": {
        "id": "7sHn5myK9ttr"
      },
      "source": [
        "df_temporal_usuario=df_all_interactions_train.loc[df_all_interactions_train.DBbook_userID==1124,['DBbook_ItemID','class']]\n",
        "df_temporal_usuario"
      ],
      "execution_count": null,
      "outputs": []
    },
    {
      "cell_type": "markdown",
      "metadata": {
        "id": "x3olsl9JAiqf"
      },
      "source": [
        "Peguemos a este dataframe la representación vectorial de tf_idf por el id del item, en la matriz es el índice de las filas"
      ]
    },
    {
      "cell_type": "code",
      "metadata": {
        "id": "n-baZRsWAdSa"
      },
      "source": [
        "df_temporal_usuario=df_temporal_usuario.merge(df_matriz_tf_idf, how='left', left_on='DBbook_ItemID', right_index=True)\n",
        "df_temporal_usuario"
      ],
      "execution_count": null,
      "outputs": []
    },
    {
      "cell_type": "markdown",
      "metadata": {
        "id": "OeUVr32EBVHf"
      },
      "source": [
        "Este dataframe representa los datos de entrenamiento del modelo para predicción de una clase binaria (class True es le gusta, class False es no le gusta)"
      ]
    },
    {
      "cell_type": "code",
      "metadata": {
        "id": "Cg9LICZ8EY_Y"
      },
      "source": [
        "#vamos a indexar solamente las columnas que son características, la prueba chi2 lo compara todas las características contra la clase objetivo\n",
        "features=df_matriz_tf_idf.columns"
      ],
      "execution_count": null,
      "outputs": []
    },
    {
      "cell_type": "code",
      "metadata": {
        "id": "wLtYVC6bBKAq"
      },
      "source": [
        "pesos_chi2, pval= chi2(df_temporal_usuario[features],df_temporal_usuario['class'])"
      ],
      "execution_count": null,
      "outputs": []
    },
    {
      "cell_type": "code",
      "metadata": {
        "id": "A-yWyvKqCq4J"
      },
      "source": [
        "#La prueba puede arrojar nan\n",
        "pesos_chi2"
      ],
      "execution_count": null,
      "outputs": []
    },
    {
      "cell_type": "code",
      "metadata": {
        "id": "TTetd36rCtNZ"
      },
      "source": [
        "pval"
      ],
      "execution_count": null,
      "outputs": []
    },
    {
      "cell_type": "code",
      "metadata": {
        "id": "lcG-LgPJEjBZ"
      },
      "source": [
        "# LLenamos con peso 0 los que no se pudieron calcular\n",
        "pesos_chi2=np.nan_to_num(pesos_chi2)\n",
        "pesos_chi2"
      ],
      "execution_count": null,
      "outputs": []
    },
    {
      "cell_type": "markdown",
      "metadata": {
        "id": "KtzHpO7GGl7A"
      },
      "source": [
        "Se crea una máscara de indexación con los valores que son positivos según la prueba"
      ]
    },
    {
      "cell_type": "code",
      "metadata": {
        "id": "WJaQ-BTcFgzI"
      },
      "source": [
        "pesos_chi2_mask=pesos_chi2>0"
      ],
      "execution_count": null,
      "outputs": []
    },
    {
      "cell_type": "code",
      "metadata": {
        "id": "NV5CGeWjGdMY"
      },
      "source": [
        "pesos_chi2_mask"
      ],
      "execution_count": null,
      "outputs": []
    },
    {
      "cell_type": "code",
      "metadata": {
        "id": "BN2UPiY8GekY"
      },
      "source": [
        "features[pesos_chi2_mask]"
      ],
      "execution_count": null,
      "outputs": []
    },
    {
      "cell_type": "markdown",
      "metadata": {
        "id": "3jRpP0WyIwPk"
      },
      "source": [
        "El siguiente sería el resultado, se recortaron las columnas de pesos del usuario, dejando 119 features."
      ]
    },
    {
      "cell_type": "code",
      "metadata": {
        "id": "eqQWy2JjGxUY"
      },
      "source": [
        "df_temporal_usuario.loc[:,features[pesos_chi2_mask]]"
      ],
      "execution_count": null,
      "outputs": []
    },
    {
      "cell_type": "code",
      "metadata": {
        "id": "0A9R37kVIrzE"
      },
      "source": [
        "del df_temporal_usuario"
      ],
      "execution_count": null,
      "outputs": []
    },
    {
      "cell_type": "markdown",
      "metadata": {
        "id": "XLUTb5TxI7kv"
      },
      "source": [
        "**Complete el código de la siguiente celda, el objetivo es crear un diccionario donde la llave es el id del usuario y el valor es un arreglo con los features seleccionados para el usuario**\n",
        "\n",
        "El proceso que implementamos no esta optimizado, por lo que vamos a armar el modelo solamente para los 500 usuarios con más ratings en el dataset de test.\n"
      ]
    },
    {
      "cell_type": "code",
      "metadata": {
        "id": "T8EUnhJDIjTt"
      },
      "source": [
        "diccionario_usuarios_features={}\n",
        "# 500 usuarios con más ratings en test\n",
        "unique_users_test=df_conteos_usuario_train_test.nlargest(500,'test_count').index\n",
        "i=0\n",
        "print(unique_users_test.shape)\n",
        "for user in unique_users_test:\n",
        "  if not user in diccionario_usuarios_features:\n",
        "    df_temporal_usuario=df_all_interactions_train.loc[df_all_interactions_train.DBbook_userID==user,['DBbook_ItemID','class']]\n",
        "    \n",
        "    df_temporal_usuario=df_temporal_usuario.merge ????\n",
        "   \n",
        "    pesos_chi2, pval=????\n",
        "    pesos_chi2=np.nan_to_num(pesos_chi2)\n",
        "    pesos_chi2_mask=pesos_chi2>0\n",
        "    features_usuario=features[pesos_chi2_mask]\n",
        "    diccionario_usuarios_features[user]=features_usuario\n",
        "    i=i+1\n",
        "    if i%50==0:\n",
        "      print(i)  \n",
        "    del df_temporal_usuario\n",
        "\n",
        "\n",
        "\n",
        "\n"
      ],
      "execution_count": null,
      "outputs": []
    },
    {
      "cell_type": "code",
      "metadata": {
        "id": "n3go4ywZJOSX"
      },
      "source": [
        "len(diccionario_usuarios_features)"
      ],
      "execution_count": null,
      "outputs": []
    },
    {
      "cell_type": "code",
      "metadata": {
        "id": "y1OwnizDbVBG"
      },
      "source": [
        "diccionario_usuarios_features.keys()"
      ],
      "execution_count": null,
      "outputs": []
    },
    {
      "cell_type": "markdown",
      "metadata": {
        "id": "hFT8FbvPT4bD"
      },
      "source": [
        "Otro criterio que puede ser usado es [Mutual Information](https://scikit-learn.org/stable/modules/generated/sklearn.feature_selection.mutual_info_classif.html#sklearn.feature_selection.mutual_info_classif) "
      ]
    },
    {
      "cell_type": "markdown",
      "metadata": {
        "id": "2kHhHH-_UIn3"
      },
      "source": [
        "# Modelo de recomendación y evaluación\n",
        "\n",
        "Una vez seleccionadas las características por usuario, se puede usar el dataset de entrenamiento para aprender un modelo de clasificación binaria y probarlo sobre test.\n",
        "\n",
        "Uno de los modelos que puede ser utilizado es el [clasificador por vecinos más cercanos](https://en.wikipedia.org/wiki/K-nearest_neighbors_algorithm).\n",
        "\n",
        "Cada usuario tiene unas instancias representadas en un espacio vectorial del tamaño de las características seleccionadas anteriormente. Para una nueva instancia (predicción) se mira cuáles son los k vecinos más cercanos a ese dato nuevo y se predice la clase mayoritaria dentro del grupo de los vecinos. Observe el siguiente ejemplo. "
      ]
    },
    {
      "cell_type": "code",
      "metadata": {
        "id": "hmb-n1W-W5Ch"
      },
      "source": [
        "%%html\n",
        "<iframe src=\"https://es.wikipedia.org/wiki/K_vecinos_m%C3%A1s_pr%C3%B3ximos#/media/Archivo:KnnClassification.svg\" width=\"1200\" height=\"600\"></iframe>"
      ],
      "execution_count": null,
      "outputs": []
    },
    {
      "cell_type": "markdown",
      "metadata": {
        "id": "kKdEp0MiZ1WL"
      },
      "source": [
        "Tomemos como ejemplo el usuario 679, armemos su conjunto de entrenamiento. Note que se estan seleccionando solamente los features calculados en el punto anterior"
      ]
    },
    {
      "cell_type": "code",
      "metadata": {
        "id": "wLTrU3RBSQ-p"
      },
      "source": [
        "features_usuario_679=diccionario_usuarios_features[679]\n",
        "df_temporal_usuario_train=df_all_interactions_train.loc[df_all_interactions_train.DBbook_userID==679,['DBbook_ItemID','class']]\n",
        "df_temporal_usuario_train=df_temporal_usuario_train.merge(df_matriz_tf_idf[features_usuario_679], how='left', left_on='DBbook_ItemID', right_index=True)\n",
        "df_temporal_usuario_train"
      ],
      "execution_count": null,
      "outputs": []
    },
    {
      "cell_type": "markdown",
      "metadata": {
        "id": "W77A4lUtbysX"
      },
      "source": [
        "Armamos de igual forma el conjunto de test"
      ]
    },
    {
      "cell_type": "code",
      "metadata": {
        "id": "HKOUVPhbbpAg"
      },
      "source": [
        "df_temporal_usuario_test=df_all_interactions_test.loc[df_all_interactions_test.DBbook_userID==679,['DBbook_ItemID','class']]\n",
        "df_temporal_usuario_test=df_temporal_usuario_test.merge(df_matriz_tf_idf[features_usuario_679], how='left', left_on='DBbook_ItemID', right_index=True)\n",
        "df_temporal_usuario_test"
      ],
      "execution_count": null,
      "outputs": []
    },
    {
      "cell_type": "markdown",
      "metadata": {
        "id": "eRzxc7DZdWhS"
      },
      "source": [
        "Utilizaremos la clase [KNeighborsClassifier](https://scikit-learn.org/stable/modules/generated/sklearn.neighbors.KNeighborsClassifier.html) de scikit-learn para hacer la predicción de los datos del conjunto de test. El modelo tiene 3 métodos principales. El constructor permite inicializar el k a usar, la métrica entre otros; fit sirve para darle los datos de entrenamiento base al modelo; y predict para predecir los datos que se le pasan."
      ]
    },
    {
      "cell_type": "code",
      "metadata": {
        "id": "nLrsiGFqe4MQ"
      },
      "source": [
        "#Con esta configuración se utilizan los 3 vecinos más cercanos, con distancia euclidiana\n",
        "knn_clasif=KNeighborsClassifier(3)"
      ],
      "execution_count": null,
      "outputs": []
    },
    {
      "cell_type": "code",
      "metadata": {
        "id": "Zk--tT6ScodK"
      },
      "source": [
        "# Fit recibe la matriz de entrenamiento y la clase objetivo\n",
        "knn_clasif.fit(df_temporal_usuario_train[features_usuario_679], df_temporal_usuario_train['class'])"
      ],
      "execution_count": null,
      "outputs": []
    },
    {
      "cell_type": "code",
      "metadata": {
        "id": "MzXkT1mngNJ4"
      },
      "source": [
        "# llamamos predict sobre  los test , creando una nueva columna en el dataframe de test\n",
        "df_temporal_usuario_test['predict']=knn_clasif.predict(df_temporal_usuario_test[features_usuario_679])"
      ],
      "execution_count": null,
      "outputs": []
    },
    {
      "cell_type": "code",
      "metadata": {
        "id": "qQxjEKRShJhV"
      },
      "source": [
        "df_temporal_usuario_test[['DBbook_ItemID','class','predict']].merge(df_libros, how='left', on='DBbook_ItemID')"
      ],
      "execution_count": null,
      "outputs": []
    },
    {
      "cell_type": "markdown",
      "metadata": {
        "id": "s6uiIgPKjtuf"
      },
      "source": [
        "**En las siguientes celdas realice hipótesis sobre por qué falló la clasificación para estos items y por qué funcionó para los otros, revise los conceptos seleccionados para el usuario y los asociados a los items**"
      ]
    },
    {
      "cell_type": "code",
      "metadata": {
        "id": "wpTjHFrWj_RO"
      },
      "source": [
        ""
      ],
      "execution_count": null,
      "outputs": []
    },
    {
      "cell_type": "code",
      "metadata": {
        "id": "xagX9J6kj_bi"
      },
      "source": [
        ""
      ],
      "execution_count": null,
      "outputs": []
    },
    {
      "cell_type": "markdown",
      "metadata": {
        "id": "u6DXNlhwTq5Z"
      },
      "source": [
        "Finalmente, la librería sklearn tiene diferentes métricas de evaluación de clasificación. En particular podemos calcular la matriz de confusión de la clasificación utilizando la función [confusion_matrix](https://scikit-learn.org/stable/modules/generated/sklearn.metrics.confusion_matrix.html), y el cálculo de las métricas precision, recall, y f1 con la función [precision_recall_fscore_support](https://scikit-learn.org/stable/modules/generated/sklearn.metrics.precision_recall_fscore_support.html)"
      ]
    },
    {
      "cell_type": "code",
      "metadata": {
        "id": "gQLtbeNMlFME"
      },
      "source": [
        "tn, fp, fn, tp = confusion_matrix(df_temporal_usuario_test['class'],df_temporal_usuario_test['predict'], labels=[False,True]).ravel()\n",
        "\n",
        "(tn, fp, fn, tp)"
      ],
      "execution_count": null,
      "outputs": []
    },
    {
      "cell_type": "code",
      "metadata": {
        "id": "ql_O4aBalNay"
      },
      "source": [
        "precision_recall_fscore_support(df_temporal_usuario_test['class'],df_temporal_usuario_test['predict'], pos_label=True,average='binary')"
      ],
      "execution_count": null,
      "outputs": []
    },
    {
      "cell_type": "markdown",
      "metadata": {
        "id": "96Bh3YlFmuo0"
      },
      "source": [
        "**Ejercicio: Realice las predicciones binarias para los usuarios en el conjunto de test a los que se les hizo la selección de características, mida la precisión, el recall y f_score de su modelo con las predicciones realizadas y ajústelo cambiando el k**"
      ]
    },
    {
      "cell_type": "code",
      "metadata": {
        "id": "h0Z-k78WmU8G"
      },
      "source": [
        ""
      ],
      "execution_count": null,
      "outputs": []
    }
  ]
}